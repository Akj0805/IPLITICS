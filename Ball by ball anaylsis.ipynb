{
 "cells": [
  {
   "cell_type": "code",
   "execution_count": 1,
   "id": "6728234a",
   "metadata": {},
   "outputs": [
    {
     "data": {
      "text/html": [
       "<div>\n",
       "<style scoped>\n",
       "    .dataframe tbody tr th:only-of-type {\n",
       "        vertical-align: middle;\n",
       "    }\n",
       "\n",
       "    .dataframe tbody tr th {\n",
       "        vertical-align: top;\n",
       "    }\n",
       "\n",
       "    .dataframe thead th {\n",
       "        text-align: right;\n",
       "    }\n",
       "</style>\n",
       "<table border=\"1\" class=\"dataframe\">\n",
       "  <thead>\n",
       "    <tr style=\"text-align: right;\">\n",
       "      <th></th>\n",
       "      <th>comment_id</th>\n",
       "      <th>season</th>\n",
       "      <th>match_id</th>\n",
       "      <th>match_name</th>\n",
       "      <th>home_team</th>\n",
       "      <th>away_team</th>\n",
       "      <th>current_innings</th>\n",
       "      <th>innings_id</th>\n",
       "      <th>over</th>\n",
       "      <th>ball</th>\n",
       "      <th>runs</th>\n",
       "      <th>wkt_batsman_runs</th>\n",
       "      <th>isBoundary</th>\n",
       "      <th>isWide</th>\n",
       "      <th>isNoball</th>\n",
       "      <th>batsman1_name</th>\n",
       "      <th>bowler1_name</th>\n",
       "      <th>batsman2_name</th>\n",
       "      <th>text</th>\n",
       "    </tr>\n",
       "  </thead>\n",
       "  <tbody>\n",
       "    <tr>\n",
       "      <th>0</th>\n",
       "      <td>120</td>\n",
       "      <td>2022</td>\n",
       "      <td>1304047</td>\n",
       "      <td>CSK v KKR</td>\n",
       "      <td>CSK</td>\n",
       "      <td>KKR</td>\n",
       "      <td>CSK</td>\n",
       "      <td>1</td>\n",
       "      <td>1</td>\n",
       "      <td>1</td>\n",
       "      <td>0</td>\n",
       "      <td>NaN</td>\n",
       "      <td>False</td>\n",
       "      <td>False</td>\n",
       "      <td>False</td>\n",
       "      <td>Ruturaj Gaikwad</td>\n",
       "      <td>Umesh Yadav</td>\n",
       "      <td>Devon Conway</td>\n",
       "      <td>beaten as he has a wild swing at this full del...</td>\n",
       "    </tr>\n",
       "    <tr>\n",
       "      <th>1</th>\n",
       "      <td>110</td>\n",
       "      <td>2022</td>\n",
       "      <td>1304047</td>\n",
       "      <td>CSK v KKR</td>\n",
       "      <td>CSK</td>\n",
       "      <td>KKR</td>\n",
       "      <td>CSK</td>\n",
       "      <td>1</td>\n",
       "      <td>1</td>\n",
       "      <td>1</td>\n",
       "      <td>1</td>\n",
       "      <td>NaN</td>\n",
       "      <td>False</td>\n",
       "      <td>False</td>\n",
       "      <td>True</td>\n",
       "      <td>Ruturaj Gaikwad</td>\n",
       "      <td>Umesh Yadav</td>\n",
       "      <td>Devon Conway</td>\n",
       "      <td>starts with a zippy back of length delivery th...</td>\n",
       "    </tr>\n",
       "    <tr>\n",
       "      <th>2</th>\n",
       "      <td>140</td>\n",
       "      <td>2022</td>\n",
       "      <td>1304047</td>\n",
       "      <td>CSK v KKR</td>\n",
       "      <td>CSK</td>\n",
       "      <td>KKR</td>\n",
       "      <td>CSK</td>\n",
       "      <td>1</td>\n",
       "      <td>1</td>\n",
       "      <td>2</td>\n",
       "      <td>0</td>\n",
       "      <td>NaN</td>\n",
       "      <td>False</td>\n",
       "      <td>False</td>\n",
       "      <td>False</td>\n",
       "      <td>Ruturaj Gaikwad</td>\n",
       "      <td>Umesh Yadav</td>\n",
       "      <td>Devon Conway</td>\n",
       "      <td>terrific delivery. Bolt upright seam to land i...</td>\n",
       "    </tr>\n",
       "    <tr>\n",
       "      <th>3</th>\n",
       "      <td>130</td>\n",
       "      <td>2022</td>\n",
       "      <td>1304047</td>\n",
       "      <td>CSK v KKR</td>\n",
       "      <td>CSK</td>\n",
       "      <td>KKR</td>\n",
       "      <td>CSK</td>\n",
       "      <td>1</td>\n",
       "      <td>1</td>\n",
       "      <td>2</td>\n",
       "      <td>1</td>\n",
       "      <td>NaN</td>\n",
       "      <td>False</td>\n",
       "      <td>True</td>\n",
       "      <td>False</td>\n",
       "      <td>Ruturaj Gaikwad</td>\n",
       "      <td>Umesh Yadav</td>\n",
       "      <td>Devon Conway</td>\n",
       "      <td>slips this back of a length delivery down leg,...</td>\n",
       "    </tr>\n",
       "    <tr>\n",
       "      <th>4</th>\n",
       "      <td>150</td>\n",
       "      <td>2022</td>\n",
       "      <td>1304047</td>\n",
       "      <td>CSK v KKR</td>\n",
       "      <td>CSK</td>\n",
       "      <td>KKR</td>\n",
       "      <td>CSK</td>\n",
       "      <td>1</td>\n",
       "      <td>1</td>\n",
       "      <td>3</td>\n",
       "      <td>0</td>\n",
       "      <td>0.0</td>\n",
       "      <td>False</td>\n",
       "      <td>False</td>\n",
       "      <td>False</td>\n",
       "      <td>Ruturaj Gaikwad</td>\n",
       "      <td>Umesh Yadav</td>\n",
       "      <td>Devon Conway</td>\n",
       "      <td>&lt;b&gt; edged and taken at slip! &lt;/b&gt; Uncharacteri...</td>\n",
       "    </tr>\n",
       "  </tbody>\n",
       "</table>\n",
       "</div>"
      ],
      "text/plain": [
       "   comment_id  season  match_id match_name home_team away_team  \\\n",
       "0         120    2022   1304047  CSK v KKR       CSK       KKR   \n",
       "1         110    2022   1304047  CSK v KKR       CSK       KKR   \n",
       "2         140    2022   1304047  CSK v KKR       CSK       KKR   \n",
       "3         130    2022   1304047  CSK v KKR       CSK       KKR   \n",
       "4         150    2022   1304047  CSK v KKR       CSK       KKR   \n",
       "\n",
       "  current_innings  innings_id  over  ball  runs  wkt_batsman_runs  isBoundary  \\\n",
       "0             CSK           1     1     1     0               NaN       False   \n",
       "1             CSK           1     1     1     1               NaN       False   \n",
       "2             CSK           1     1     2     0               NaN       False   \n",
       "3             CSK           1     1     2     1               NaN       False   \n",
       "4             CSK           1     1     3     0               0.0       False   \n",
       "\n",
       "   isWide  isNoball    batsman1_name bowler1_name batsman2_name  \\\n",
       "0   False     False  Ruturaj Gaikwad  Umesh Yadav  Devon Conway   \n",
       "1   False      True  Ruturaj Gaikwad  Umesh Yadav  Devon Conway   \n",
       "2   False     False  Ruturaj Gaikwad  Umesh Yadav  Devon Conway   \n",
       "3    True     False  Ruturaj Gaikwad  Umesh Yadav  Devon Conway   \n",
       "4   False     False  Ruturaj Gaikwad  Umesh Yadav  Devon Conway   \n",
       "\n",
       "                                                text  \n",
       "0  beaten as he has a wild swing at this full del...  \n",
       "1  starts with a zippy back of length delivery th...  \n",
       "2  terrific delivery. Bolt upright seam to land i...  \n",
       "3  slips this back of a length delivery down leg,...  \n",
       "4  <b> edged and taken at slip! </b> Uncharacteri...  "
      ]
     },
     "execution_count": 1,
     "metadata": {},
     "output_type": "execute_result"
    }
   ],
   "source": [
    "import pandas as pd\n",
    "import numpy as np\n",
    "import seaborn as sns\n",
    "# Load the dataset\n",
    "df = pd.read_csv(\"C:/Users/ridit/Downloads/all_season_details.csv\")\n",
    "\n",
    "# Display the first few rows of the dataset\n",
    "df.head()\n"
   ]
  },
  {
   "cell_type": "code",
   "execution_count": 2,
   "id": "c5e33b9f",
   "metadata": {},
   "outputs": [
    {
     "data": {
      "text/plain": [
       "<AxesSubplot:>"
      ]
     },
     "execution_count": 2,
     "metadata": {},
     "output_type": "execute_result"
    },
    {
     "data": {
      "image/png": "[encoded data removed]",
      "text/plain": [
       "<Figure size 640x480 with 1 Axes>"
      ]
     },
     "metadata": {},
     "output_type": "display_data"
    }
   ],
   "source": [
    "sns.heatmap(df.isnull(),yticklabels=False,cbar=False,cmap='viridis')"
   ]
  },
  {
   "cell_type": "code",
   "execution_count": 3,
   "id": "e878b087",
   "metadata": {},
   "outputs": [
    {
     "data": {
      "text/plain": [
       "array([], dtype=int64)"
      ]
     },
     "execution_count": 3,
     "metadata": {},
     "output_type": "execute_result"
    }
   ],
   "source": [
    "df['season'].isna().sum()\n",
    "np.where(df['season'].isnull() == True)[0]\n"
   ]
  },
  {
   "cell_type": "code",
   "execution_count": 4,
   "id": "51d3b105",
   "metadata": {},
   "outputs": [
    {
     "data": {
      "text/plain": [
       "array([], dtype=int64)"
      ]
     },
     "execution_count": 4,
     "metadata": {},
     "output_type": "execute_result"
    }
   ],
   "source": [
    "df['match_id'].isna().sum()\n",
    "np.where(df['match_id'].isnull() == True)[0]\n"
   ]
  },
  {
   "cell_type": "code",
   "execution_count": 5,
   "id": "d38c4772",
   "metadata": {},
   "outputs": [
    {
     "data": {
      "text/plain": [
       "array([], dtype=int64)"
      ]
     },
     "execution_count": 5,
     "metadata": {},
     "output_type": "execute_result"
    }
   ],
   "source": [
    "df['match_name'].isna().sum()\n",
    "np.where(df['match_name'].isnull() == True)[0]\n"
   ]
  },
  {
   "cell_type": "code",
   "execution_count": 6,
   "id": "80633f2e",
   "metadata": {},
   "outputs": [
    {
     "data": {
      "text/plain": [
       "array([], dtype=int64)"
      ]
     },
     "execution_count": 6,
     "metadata": {},
     "output_type": "execute_result"
    }
   ],
   "source": [
    "df['current_innings'].isna().sum()\n",
    "np.where(df['current_innings'].isnull() == True)[0]\n"
   ]
  },
  {
   "cell_type": "code",
   "execution_count": 7,
   "id": "be990a1f",
   "metadata": {},
   "outputs": [
    {
     "data": {
      "text/plain": [
       "array([], dtype=int64)"
      ]
     },
     "execution_count": 7,
     "metadata": {},
     "output_type": "execute_result"
    }
   ],
   "source": [
    "df['over'].isna().sum()\n",
    "np.where(df['over'].isnull() == True)[0]\n"
   ]
  },
  {
   "cell_type": "code",
   "execution_count": 8,
   "id": "223e2cf7",
   "metadata": {},
   "outputs": [
    {
     "data": {
      "text/plain": [
       "array([], dtype=int64)"
      ]
     },
     "execution_count": 8,
     "metadata": {},
     "output_type": "execute_result"
    }
   ],
   "source": [
    "df['ball'].isna().sum()\n",
    "np.where(df['ball'].isnull() == True)[0]\n"
   ]
  },
  {
   "cell_type": "code",
   "execution_count": 9,
   "id": "2162614d",
   "metadata": {},
   "outputs": [
    {
     "data": {
      "text/plain": [
       "array([], dtype=int64)"
      ]
     },
     "execution_count": 9,
     "metadata": {},
     "output_type": "execute_result"
    }
   ],
   "source": [
    "df['runs'].isna().sum()\n",
    "np.where(df['runs'].isnull() == True)[0]\n"
   ]
  },
  {
   "cell_type": "code",
   "execution_count": 10,
   "id": "7af0aff5",
   "metadata": {},
   "outputs": [
    {
     "data": {
      "text/plain": [
       "array([], dtype=int64)"
      ]
     },
     "execution_count": 10,
     "metadata": {},
     "output_type": "execute_result"
    }
   ],
   "source": [
    "df['season'].isna().sum()\n",
    "np.where(df['season'].isnull() == True)[0]\n"
   ]
  },
  {
   "cell_type": "code",
   "execution_count": 11,
   "id": "d2920296",
   "metadata": {},
   "outputs": [
    {
     "data": {
      "text/plain": [
       "array([], dtype=int64)"
      ]
     },
     "execution_count": 11,
     "metadata": {},
     "output_type": "execute_result"
    }
   ],
   "source": [
    "df['isBoundary'].isna().sum()\n",
    "np.where(df['isBoundary'].isnull() == True)[0]\n"
   ]
  },
  {
   "cell_type": "code",
   "execution_count": 12,
   "id": "f868ef37",
   "metadata": {},
   "outputs": [
    {
     "ename": "KeyError",
     "evalue": "'shortText'",
     "output_type": "error",
     "traceback": [
      "\u001b[1;31m---------------------------------------------------------------------------\u001b[0m",
      "\u001b[1;31mKeyError\u001b[0m                                  Traceback (most recent call last)",
      "\u001b[1;32m~\\anaconda3\\lib\\site-packages\\pandas\\core\\indexes\\base.py\u001b[0m in \u001b[0;36mget_loc\u001b[1;34m(self, key, method, tolerance)\u001b[0m\n\u001b[0;32m   3628\u001b[0m             \u001b[1;32mtry\u001b[0m\u001b[1;33m:\u001b[0m\u001b[1;33m\u001b[0m\u001b[1;33m\u001b[0m\u001b[0m\n\u001b[1;32m-> 3629\u001b[1;33m                 \u001b[1;32mreturn\u001b[0m \u001b[0mself\u001b[0m\u001b[1;33m.\u001b[0m\u001b[0m_engine\u001b[0m\u001b[1;33m.\u001b[0m\u001b[0mget_loc\u001b[0m\u001b[1;33m(\u001b[0m\u001b[0mcasted_key\u001b[0m\u001b[1;33m)\u001b[0m\u001b[1;33m\u001b[0m\u001b[1;33m\u001b[0m\u001b[0m\n\u001b[0m\u001b[0;32m   3630\u001b[0m             \u001b[1;32mexcept\u001b[0m \u001b[0mKeyError\u001b[0m \u001b[1;32mas\u001b[0m \u001b[0merr\u001b[0m\u001b[1;33m:\u001b[0m\u001b[1;33m\u001b[0m\u001b[1;33m\u001b[0m\u001b[0m\n",
      "\u001b[1;32m~\\anaconda3\\lib\\site-packages\\pandas\\_libs\\index.pyx\u001b[0m in \u001b[0;36mpandas._libs.index.IndexEngine.get_loc\u001b[1;34m()\u001b[0m\n",
      "\u001b[1;32m~\\anaconda3\\lib\\site-packages\\pandas\\_libs\\index.pyx\u001b[0m in \u001b[0;36mpandas._libs.index.IndexEngine.get_loc\u001b[1;34m()\u001b[0m\n",
      "\u001b[1;32mpandas\\_libs\\hashtable_class_helper.pxi\u001b[0m in \u001b[0;36mpandas._libs.hashtable.PyObjectHashTable.get_item\u001b[1;34m()\u001b[0m\n",
      "\u001b[1;32mpandas\\_libs\\hashtable_class_helper.pxi\u001b[0m in \u001b[0;36mpandas._libs.hashtable.PyObjectHashTable.get_item\u001b[1;34m()\u001b[0m\n",
      "\u001b[1;31mKeyError\u001b[0m: 'shortText'",
      "\nThe above exception was the direct cause of the following exception:\n",
      "\u001b[1;31mKeyError\u001b[0m                                  Traceback (most recent call last)",
      "\u001b[1;32m~\\AppData\\Local\\Temp\\ipykernel_24084\\1765934251.py\u001b[0m in \u001b[0;36m<module>\u001b[1;34m\u001b[0m\n\u001b[1;32m----> 1\u001b[1;33m \u001b[0mdf\u001b[0m\u001b[1;33m[\u001b[0m\u001b[1;34m'shortText'\u001b[0m\u001b[1;33m]\u001b[0m\u001b[1;33m.\u001b[0m\u001b[0misna\u001b[0m\u001b[1;33m(\u001b[0m\u001b[1;33m)\u001b[0m\u001b[1;33m.\u001b[0m\u001b[0msum\u001b[0m\u001b[1;33m(\u001b[0m\u001b[1;33m)\u001b[0m\u001b[1;33m\u001b[0m\u001b[1;33m\u001b[0m\u001b[0m\n\u001b[0m\u001b[0;32m      2\u001b[0m \u001b[0mnp\u001b[0m\u001b[1;33m.\u001b[0m\u001b[0mwhere\u001b[0m\u001b[1;33m(\u001b[0m\u001b[0mdf\u001b[0m\u001b[1;33m[\u001b[0m\u001b[1;34m'shortText'\u001b[0m\u001b[1;33m]\u001b[0m\u001b[1;33m.\u001b[0m\u001b[0misnull\u001b[0m\u001b[1;33m(\u001b[0m\u001b[1;33m)\u001b[0m \u001b[1;33m==\u001b[0m \u001b[1;32mTrue\u001b[0m\u001b[1;33m)\u001b[0m\u001b[1;33m[\u001b[0m\u001b[1;36m0\u001b[0m\u001b[1;33m]\u001b[0m\u001b[1;33m\u001b[0m\u001b[1;33m\u001b[0m\u001b[0m\n",
      "\u001b[1;32m~\\anaconda3\\lib\\site-packages\\pandas\\core\\frame.py\u001b[0m in \u001b[0;36m__getitem__\u001b[1;34m(self, key)\u001b[0m\n\u001b[0;32m   3503\u001b[0m             \u001b[1;32mif\u001b[0m \u001b[0mself\u001b[0m\u001b[1;33m.\u001b[0m\u001b[0mcolumns\u001b[0m\u001b[1;33m.\u001b[0m\u001b[0mnlevels\u001b[0m \u001b[1;33m>\u001b[0m \u001b[1;36m1\u001b[0m\u001b[1;33m:\u001b[0m\u001b[1;33m\u001b[0m\u001b[1;33m\u001b[0m\u001b[0m\n\u001b[0;32m   3504\u001b[0m                 \u001b[1;32mreturn\u001b[0m \u001b[0mself\u001b[0m\u001b[1;33m.\u001b[0m\u001b[0m_getitem_multilevel\u001b[0m\u001b[1;33m(\u001b[0m\u001b[0mkey\u001b[0m\u001b[1;33m)\u001b[0m\u001b[1;33m\u001b[0m\u001b[1;33m\u001b[0m\u001b[0m\n\u001b[1;32m-> 3505\u001b[1;33m             \u001b[0mindexer\u001b[0m \u001b[1;33m=\u001b[0m \u001b[0mself\u001b[0m\u001b[1;33m.\u001b[0m\u001b[0mcolumns\u001b[0m\u001b[1;33m.\u001b[0m\u001b[0mget_loc\u001b[0m\u001b[1;33m(\u001b[0m\u001b[0mkey\u001b[0m\u001b[1;33m)\u001b[0m\u001b[1;33m\u001b[0m\u001b[1;33m\u001b[0m\u001b[0m\n\u001b[0m\u001b[0;32m   3506\u001b[0m             \u001b[1;32mif\u001b[0m \u001b[0mis_integer\u001b[0m\u001b[1;33m(\u001b[0m\u001b[0mindexer\u001b[0m\u001b[1;33m)\u001b[0m\u001b[1;33m:\u001b[0m\u001b[1;33m\u001b[0m\u001b[1;33m\u001b[0m\u001b[0m\n\u001b[0;32m   3507\u001b[0m                 \u001b[0mindexer\u001b[0m \u001b[1;33m=\u001b[0m \u001b[1;33m[\u001b[0m\u001b[0mindexer\u001b[0m\u001b[1;33m]\u001b[0m\u001b[1;33m\u001b[0m\u001b[1;33m\u001b[0m\u001b[0m\n",
      "\u001b[1;32m~\\anaconda3\\lib\\site-packages\\pandas\\core\\indexes\\base.py\u001b[0m in \u001b[0;36mget_loc\u001b[1;34m(self, key, method, tolerance)\u001b[0m\n\u001b[0;32m   3629\u001b[0m                 \u001b[1;32mreturn\u001b[0m \u001b[0mself\u001b[0m\u001b[1;33m.\u001b[0m\u001b[0m_engine\u001b[0m\u001b[1;33m.\u001b[0m\u001b[0mget_loc\u001b[0m\u001b[1;33m(\u001b[0m\u001b[0mcasted_key\u001b[0m\u001b[1;33m)\u001b[0m\u001b[1;33m\u001b[0m\u001b[1;33m\u001b[0m\u001b[0m\n\u001b[0;32m   3630\u001b[0m             \u001b[1;32mexcept\u001b[0m \u001b[0mKeyError\u001b[0m \u001b[1;32mas\u001b[0m \u001b[0merr\u001b[0m\u001b[1;33m:\u001b[0m\u001b[1;33m\u001b[0m\u001b[1;33m\u001b[0m\u001b[0m\n\u001b[1;32m-> 3631\u001b[1;33m                 \u001b[1;32mraise\u001b[0m \u001b[0mKeyError\u001b[0m\u001b[1;33m(\u001b[0m\u001b[0mkey\u001b[0m\u001b[1;33m)\u001b[0m \u001b[1;32mfrom\u001b[0m \u001b[0merr\u001b[0m\u001b[1;33m\u001b[0m\u001b[1;33m\u001b[0m\u001b[0m\n\u001b[0m\u001b[0;32m   3632\u001b[0m             \u001b[1;32mexcept\u001b[0m \u001b[0mTypeError\u001b[0m\u001b[1;33m:\u001b[0m\u001b[1;33m\u001b[0m\u001b[1;33m\u001b[0m\u001b[0m\n\u001b[0;32m   3633\u001b[0m                 \u001b[1;31m# If we have a listlike key, _check_indexing_error will raise\u001b[0m\u001b[1;33m\u001b[0m\u001b[1;33m\u001b[0m\u001b[0m\n",
      "\u001b[1;31mKeyError\u001b[0m: 'shortText'"
     ]
    }
   ],
   "source": [
    "df['shortText'].isna().sum()\n",
    "np.where(df['shortText'].isnull() == True)[0]\n"
   ]
  },
  {
   "cell_type": "code",
   "execution_count": null,
   "id": "df8c3d41",
   "metadata": {},
   "outputs": [],
   "source": [
    "df['isWide'].isna().sum()\n",
    "np.where(df['isWide'].isnull() == True)[0]\n"
   ]
  },
  {
   "cell_type": "code",
   "execution_count": 13,
   "id": "44239b51",
   "metadata": {},
   "outputs": [
    {
     "data": {
      "text/plain": [
       "array([], dtype=int64)"
      ]
     },
     "execution_count": 13,
     "metadata": {},
     "output_type": "execute_result"
    }
   ],
   "source": [
    "df['isNoball'].isna().sum()\n",
    "np.where(df['isNoball'].isnull() == True)[0]\n"
   ]
  },
  {
   "cell_type": "code",
   "execution_count": 15,
   "id": "37b434df",
   "metadata": {},
   "outputs": [
    {
     "data": {
      "text/plain": [
       "array([], dtype=int64)"
      ]
     },
     "execution_count": 15,
     "metadata": {},
     "output_type": "execute_result"
    }
   ],
   "source": [
    "df['batsman1_name'].isna().sum()\n",
    "np.where(df['batsman1_name'].isnull() == True)[0]\n"
   ]
  },
  {
   "cell_type": "code",
   "execution_count": 16,
   "id": "b142fa90",
   "metadata": {},
   "outputs": [
    {
     "data": {
      "text/plain": [
       "array([88383, 88391], dtype=int64)"
      ]
     },
     "execution_count": 16,
     "metadata": {},
     "output_type": "execute_result"
    }
   ],
   "source": [
    "df['batsman2_name'].isna().sum()\n",
    "np.where(df['batsman2_name'].isnull() == True)[0]\n"
   ]
  },
  {
   "cell_type": "code",
   "execution_count": 17,
   "id": "1c6beccd",
   "metadata": {},
   "outputs": [],
   "source": [
    "df.batsman2_name = df.batsman2_name.fillna('no batsman left')\n",
    "df.wkt_batsman_runs = df.wkt_batsman_runs.fillna(3111)\n",
    "df[\"wkt_batsman_runs\"] = df[\"wkt_batsman_runs\"].astype(int)"
   ]
  },
  {
   "cell_type": "code",
   "execution_count": 18,
   "id": "d6129742",
   "metadata": {},
   "outputs": [
    {
     "data": {
      "text/plain": [
       "array([], dtype=int64)"
      ]
     },
     "execution_count": 18,
     "metadata": {},
     "output_type": "execute_result"
    }
   ],
   "source": [
    "df['batsman2_name'].isna().sum()\n",
    "np.where(df['batsman2_name'].isnull() == True)[0]\n"
   ]
  },
  {
   "cell_type": "code",
   "execution_count": 19,
   "id": "5ae4d8de",
   "metadata": {},
   "outputs": [
    {
     "data": {
      "text/html": [
       "<div>\n",
       "<style scoped>\n",
       "    .dataframe tbody tr th:only-of-type {\n",
       "        vertical-align: middle;\n",
       "    }\n",
       "\n",
       "    .dataframe tbody tr th {\n",
       "        vertical-align: top;\n",
       "    }\n",
       "\n",
       "    .dataframe thead th {\n",
       "        text-align: right;\n",
       "    }\n",
       "</style>\n",
       "<table border=\"1\" class=\"dataframe\">\n",
       "  <thead>\n",
       "    <tr style=\"text-align: right;\">\n",
       "      <th></th>\n",
       "      <th>comment_id</th>\n",
       "      <th>season</th>\n",
       "      <th>match_id</th>\n",
       "      <th>match_name</th>\n",
       "      <th>home_team</th>\n",
       "      <th>away_team</th>\n",
       "      <th>current_innings</th>\n",
       "      <th>innings_id</th>\n",
       "      <th>over</th>\n",
       "      <th>ball</th>\n",
       "      <th>runs</th>\n",
       "      <th>wkt_batsman_runs</th>\n",
       "      <th>isBoundary</th>\n",
       "      <th>isWide</th>\n",
       "      <th>isNoball</th>\n",
       "      <th>batsman1_name</th>\n",
       "      <th>bowler1_name</th>\n",
       "      <th>batsman2_name</th>\n",
       "      <th>text</th>\n",
       "    </tr>\n",
       "  </thead>\n",
       "  <tbody>\n",
       "    <tr>\n",
       "      <th>0</th>\n",
       "      <td>120</td>\n",
       "      <td>2022</td>\n",
       "      <td>1304047</td>\n",
       "      <td>CSK v KKR</td>\n",
       "      <td>CSK</td>\n",
       "      <td>KKR</td>\n",
       "      <td>CSK</td>\n",
       "      <td>1</td>\n",
       "      <td>1</td>\n",
       "      <td>1</td>\n",
       "      <td>0</td>\n",
       "      <td>3111</td>\n",
       "      <td>False</td>\n",
       "      <td>False</td>\n",
       "      <td>False</td>\n",
       "      <td>Ruturaj Gaikwad</td>\n",
       "      <td>Umesh Yadav</td>\n",
       "      <td>Devon Conway</td>\n",
       "      <td>beaten as he has a wild swing at this full del...</td>\n",
       "    </tr>\n",
       "    <tr>\n",
       "      <th>1</th>\n",
       "      <td>110</td>\n",
       "      <td>2022</td>\n",
       "      <td>1304047</td>\n",
       "      <td>CSK v KKR</td>\n",
       "      <td>CSK</td>\n",
       "      <td>KKR</td>\n",
       "      <td>CSK</td>\n",
       "      <td>1</td>\n",
       "      <td>1</td>\n",
       "      <td>1</td>\n",
       "      <td>1</td>\n",
       "      <td>3111</td>\n",
       "      <td>False</td>\n",
       "      <td>False</td>\n",
       "      <td>True</td>\n",
       "      <td>Ruturaj Gaikwad</td>\n",
       "      <td>Umesh Yadav</td>\n",
       "      <td>Devon Conway</td>\n",
       "      <td>starts with a zippy back of length delivery th...</td>\n",
       "    </tr>\n",
       "    <tr>\n",
       "      <th>2</th>\n",
       "      <td>140</td>\n",
       "      <td>2022</td>\n",
       "      <td>1304047</td>\n",
       "      <td>CSK v KKR</td>\n",
       "      <td>CSK</td>\n",
       "      <td>KKR</td>\n",
       "      <td>CSK</td>\n",
       "      <td>1</td>\n",
       "      <td>1</td>\n",
       "      <td>2</td>\n",
       "      <td>0</td>\n",
       "      <td>3111</td>\n",
       "      <td>False</td>\n",
       "      <td>False</td>\n",
       "      <td>False</td>\n",
       "      <td>Ruturaj Gaikwad</td>\n",
       "      <td>Umesh Yadav</td>\n",
       "      <td>Devon Conway</td>\n",
       "      <td>terrific delivery. Bolt upright seam to land i...</td>\n",
       "    </tr>\n",
       "    <tr>\n",
       "      <th>3</th>\n",
       "      <td>130</td>\n",
       "      <td>2022</td>\n",
       "      <td>1304047</td>\n",
       "      <td>CSK v KKR</td>\n",
       "      <td>CSK</td>\n",
       "      <td>KKR</td>\n",
       "      <td>CSK</td>\n",
       "      <td>1</td>\n",
       "      <td>1</td>\n",
       "      <td>2</td>\n",
       "      <td>1</td>\n",
       "      <td>3111</td>\n",
       "      <td>False</td>\n",
       "      <td>True</td>\n",
       "      <td>False</td>\n",
       "      <td>Ruturaj Gaikwad</td>\n",
       "      <td>Umesh Yadav</td>\n",
       "      <td>Devon Conway</td>\n",
       "      <td>slips this back of a length delivery down leg,...</td>\n",
       "    </tr>\n",
       "    <tr>\n",
       "      <th>4</th>\n",
       "      <td>150</td>\n",
       "      <td>2022</td>\n",
       "      <td>1304047</td>\n",
       "      <td>CSK v KKR</td>\n",
       "      <td>CSK</td>\n",
       "      <td>KKR</td>\n",
       "      <td>CSK</td>\n",
       "      <td>1</td>\n",
       "      <td>1</td>\n",
       "      <td>3</td>\n",
       "      <td>0</td>\n",
       "      <td>0</td>\n",
       "      <td>False</td>\n",
       "      <td>False</td>\n",
       "      <td>False</td>\n",
       "      <td>Ruturaj Gaikwad</td>\n",
       "      <td>Umesh Yadav</td>\n",
       "      <td>Devon Conway</td>\n",
       "      <td>&lt;b&gt; edged and taken at slip! &lt;/b&gt; Uncharacteri...</td>\n",
       "    </tr>\n",
       "    <tr>\n",
       "      <th>...</th>\n",
       "      <td>...</td>\n",
       "      <td>...</td>\n",
       "      <td>...</td>\n",
       "      <td>...</td>\n",
       "      <td>...</td>\n",
       "      <td>...</td>\n",
       "      <td>...</td>\n",
       "      <td>...</td>\n",
       "      <td>...</td>\n",
       "      <td>...</td>\n",
       "      <td>...</td>\n",
       "      <td>...</td>\n",
       "      <td>...</td>\n",
       "      <td>...</td>\n",
       "      <td>...</td>\n",
       "      <td>...</td>\n",
       "      <td>...</td>\n",
       "      <td>...</td>\n",
       "      <td>...</td>\n",
       "    </tr>\n",
       "    <tr>\n",
       "      <th>224933</th>\n",
       "      <td>219020</td>\n",
       "      <td>2008</td>\n",
       "      <td>336040</td>\n",
       "      <td>CSK v RR</td>\n",
       "      <td>CSK</td>\n",
       "      <td>RR</td>\n",
       "      <td>RR</td>\n",
       "      <td>2</td>\n",
       "      <td>20</td>\n",
       "      <td>2</td>\n",
       "      <td>0</td>\n",
       "      <td>3111</td>\n",
       "      <td>False</td>\n",
       "      <td>False</td>\n",
       "      <td>False</td>\n",
       "      <td>Shane Warne</td>\n",
       "      <td>Lakshmipathy Balaji</td>\n",
       "      <td>Sohail Tanvir</td>\n",
       "      <td>lovely! Balaji's bowled a yorker outside off s...</td>\n",
       "    </tr>\n",
       "    <tr>\n",
       "      <th>224934</th>\n",
       "      <td>219030</td>\n",
       "      <td>2008</td>\n",
       "      <td>336040</td>\n",
       "      <td>CSK v RR</td>\n",
       "      <td>CSK</td>\n",
       "      <td>RR</td>\n",
       "      <td>RR</td>\n",
       "      <td>2</td>\n",
       "      <td>20</td>\n",
       "      <td>3</td>\n",
       "      <td>1</td>\n",
       "      <td>3111</td>\n",
       "      <td>False</td>\n",
       "      <td>False</td>\n",
       "      <td>False</td>\n",
       "      <td>Shane Warne</td>\n",
       "      <td>Lakshmipathy Balaji</td>\n",
       "      <td>Sohail Tanvir</td>\n",
       "      <td>Warne steps down the track and throws his bat ...</td>\n",
       "    </tr>\n",
       "    <tr>\n",
       "      <th>224935</th>\n",
       "      <td>219050</td>\n",
       "      <td>2008</td>\n",
       "      <td>336040</td>\n",
       "      <td>CSK v RR</td>\n",
       "      <td>CSK</td>\n",
       "      <td>RR</td>\n",
       "      <td>RR</td>\n",
       "      <td>2</td>\n",
       "      <td>20</td>\n",
       "      <td>4</td>\n",
       "      <td>1</td>\n",
       "      <td>3111</td>\n",
       "      <td>False</td>\n",
       "      <td>False</td>\n",
       "      <td>False</td>\n",
       "      <td>Shane Warne</td>\n",
       "      <td>Lakshmipathy Balaji</td>\n",
       "      <td>Sohail Tanvir</td>\n",
       "      <td>Warne reaches out for a full ball and squeezes...</td>\n",
       "    </tr>\n",
       "    <tr>\n",
       "      <th>224936</th>\n",
       "      <td>219040</td>\n",
       "      <td>2008</td>\n",
       "      <td>336040</td>\n",
       "      <td>CSK v RR</td>\n",
       "      <td>CSK</td>\n",
       "      <td>RR</td>\n",
       "      <td>RR</td>\n",
       "      <td>2</td>\n",
       "      <td>20</td>\n",
       "      <td>4</td>\n",
       "      <td>2</td>\n",
       "      <td>3111</td>\n",
       "      <td>False</td>\n",
       "      <td>True</td>\n",
       "      <td>False</td>\n",
       "      <td>Sohail Tanvir</td>\n",
       "      <td>Lakshmipathy Balaji</td>\n",
       "      <td>Shane Warne</td>\n",
       "      <td>what has he done! Balaji has bowled a wide out...</td>\n",
       "    </tr>\n",
       "    <tr>\n",
       "      <th>224937</th>\n",
       "      <td>219060</td>\n",
       "      <td>2008</td>\n",
       "      <td>336040</td>\n",
       "      <td>CSK v RR</td>\n",
       "      <td>CSK</td>\n",
       "      <td>RR</td>\n",
       "      <td>RR</td>\n",
       "      <td>2</td>\n",
       "      <td>20</td>\n",
       "      <td>5</td>\n",
       "      <td>2</td>\n",
       "      <td>3111</td>\n",
       "      <td>False</td>\n",
       "      <td>False</td>\n",
       "      <td>False</td>\n",
       "      <td>Sohail Tanvir</td>\n",
       "      <td>Lakshmipathy Balaji</td>\n",
       "      <td>Shane Warne</td>\n",
       "      <td>Balaji bowls a full toss angling into the left...</td>\n",
       "    </tr>\n",
       "  </tbody>\n",
       "</table>\n",
       "<p>224938 rows × 19 columns</p>\n",
       "</div>"
      ],
      "text/plain": [
       "        comment_id  season  match_id match_name home_team away_team  \\\n",
       "0              120    2022   1304047  CSK v KKR       CSK       KKR   \n",
       "1              110    2022   1304047  CSK v KKR       CSK       KKR   \n",
       "2              140    2022   1304047  CSK v KKR       CSK       KKR   \n",
       "3              130    2022   1304047  CSK v KKR       CSK       KKR   \n",
       "4              150    2022   1304047  CSK v KKR       CSK       KKR   \n",
       "...            ...     ...       ...        ...       ...       ...   \n",
       "224933      219020    2008    336040   CSK v RR       CSK        RR   \n",
       "224934      219030    2008    336040   CSK v RR       CSK        RR   \n",
       "224935      219050    2008    336040   CSK v RR       CSK        RR   \n",
       "224936      219040    2008    336040   CSK v RR       CSK        RR   \n",
       "224937      219060    2008    336040   CSK v RR       CSK        RR   \n",
       "\n",
       "       current_innings  innings_id  over  ball  runs  wkt_batsman_runs  \\\n",
       "0                  CSK           1     1     1     0              3111   \n",
       "1                  CSK           1     1     1     1              3111   \n",
       "2                  CSK           1     1     2     0              3111   \n",
       "3                  CSK           1     1     2     1              3111   \n",
       "4                  CSK           1     1     3     0                 0   \n",
       "...                ...         ...   ...   ...   ...               ...   \n",
       "224933              RR           2    20     2     0              3111   \n",
       "224934              RR           2    20     3     1              3111   \n",
       "224935              RR           2    20     4     1              3111   \n",
       "224936              RR           2    20     4     2              3111   \n",
       "224937              RR           2    20     5     2              3111   \n",
       "\n",
       "        isBoundary  isWide  isNoball    batsman1_name         bowler1_name  \\\n",
       "0            False   False     False  Ruturaj Gaikwad          Umesh Yadav   \n",
       "1            False   False      True  Ruturaj Gaikwad          Umesh Yadav   \n",
       "2            False   False     False  Ruturaj Gaikwad          Umesh Yadav   \n",
       "3            False    True     False  Ruturaj Gaikwad          Umesh Yadav   \n",
       "4            False   False     False  Ruturaj Gaikwad          Umesh Yadav   \n",
       "...            ...     ...       ...              ...                  ...   \n",
       "224933       False   False     False      Shane Warne  Lakshmipathy Balaji   \n",
       "224934       False   False     False      Shane Warne  Lakshmipathy Balaji   \n",
       "224935       False   False     False      Shane Warne  Lakshmipathy Balaji   \n",
       "224936       False    True     False    Sohail Tanvir  Lakshmipathy Balaji   \n",
       "224937       False   False     False    Sohail Tanvir  Lakshmipathy Balaji   \n",
       "\n",
       "        batsman2_name                                               text  \n",
       "0        Devon Conway  beaten as he has a wild swing at this full del...  \n",
       "1        Devon Conway  starts with a zippy back of length delivery th...  \n",
       "2        Devon Conway  terrific delivery. Bolt upright seam to land i...  \n",
       "3        Devon Conway  slips this back of a length delivery down leg,...  \n",
       "4        Devon Conway  <b> edged and taken at slip! </b> Uncharacteri...  \n",
       "...               ...                                                ...  \n",
       "224933  Sohail Tanvir  lovely! Balaji's bowled a yorker outside off s...  \n",
       "224934  Sohail Tanvir  Warne steps down the track and throws his bat ...  \n",
       "224935  Sohail Tanvir  Warne reaches out for a full ball and squeezes...  \n",
       "224936    Shane Warne  what has he done! Balaji has bowled a wide out...  \n",
       "224937    Shane Warne  Balaji bowls a full toss angling into the left...  \n",
       "\n",
       "[224938 rows x 19 columns]"
      ]
     },
     "execution_count": 19,
     "metadata": {},
     "output_type": "execute_result"
    }
   ],
   "source": [
    "df"
   ]
  },
  {
   "cell_type": "code",
   "execution_count": 20,
   "id": "7f839e96",
   "metadata": {},
   "outputs": [
    {
     "data": {
      "text/plain": [
       "array([   221,    678,    709, ..., 223978, 223984, 224003], dtype=int64)"
      ]
     },
     "execution_count": 20,
     "metadata": {},
     "output_type": "execute_result"
    }
   ],
   "source": [
    "df['text'].isna().sum()\n",
    "np.where(df['text'].isnull() == True)[0]\n"
   ]
  },
  {
   "cell_type": "code",
   "execution_count": 21,
   "id": "43dda446",
   "metadata": {},
   "outputs": [],
   "source": [
    "df.text = df.text.fillna('no comments available')\n"
   ]
  },
  {
   "cell_type": "code",
   "execution_count": 22,
   "id": "93f8b106",
   "metadata": {},
   "outputs": [
    {
     "data": {
      "text/plain": [
       "array([], dtype=int64)"
      ]
     },
     "execution_count": 22,
     "metadata": {},
     "output_type": "execute_result"
    }
   ],
   "source": [
    "df['text'].isna().sum()\n",
    "np.where(df['text'].isnull() == True)[0]\n"
   ]
  },
  {
   "cell_type": "code",
   "execution_count": 23,
   "id": "479ca641",
   "metadata": {},
   "outputs": [],
   "source": [
    "df[\"isBoundary\"] = df[\"isBoundary\"].astype(int)\n",
    "df[\"isWide\"] = df[\"isWide\"].astype(int)\n",
    "df[\"isNoball\"] = df[\"isNoball\"].astype(int)"
   ]
  },
  {
   "cell_type": "code",
   "execution_count": 24,
   "id": "7b378d9b",
   "metadata": {},
   "outputs": [
    {
     "data": {
      "text/plain": [
       "comment_id           int64\n",
       "season               int64\n",
       "match_id             int64\n",
       "match_name          object\n",
       "home_team           object\n",
       "away_team           object\n",
       "current_innings     object\n",
       "innings_id           int64\n",
       "over                 int64\n",
       "ball                 int64\n",
       "runs                 int64\n",
       "wkt_batsman_runs     int32\n",
       "isBoundary           int32\n",
       "isWide               int32\n",
       "isNoball             int32\n",
       "batsman1_name       object\n",
       "bowler1_name        object\n",
       "batsman2_name       object\n",
       "text                object\n",
       "dtype: object"
      ]
     },
     "execution_count": 24,
     "metadata": {},
     "output_type": "execute_result"
    }
   ],
   "source": [
    "df.dtypes"
   ]
  },
  {
   "cell_type": "code",
   "execution_count": 25,
   "id": "42c57be3",
   "metadata": {},
   "outputs": [],
   "source": [
    "df3=df.loc[(((df['home_team'] == 'MI') & (df['away_team'] == 'CSK'))   | ((df['home_team'] == 'CSK') & (df['away_team'] == 'MI'))) & (df['innings_id'] == 1)& (df['season'] == 2022)& (df['over'] == 1)&(df['ball'] == 3)]\n"
   ]
  },
  {
   "cell_type": "code",
   "execution_count": 26,
   "id": "5161da4b",
   "metadata": {},
   "outputs": [
    {
     "data": {
      "text/html": [
       "<div>\n",
       "<style scoped>\n",
       "    .dataframe tbody tr th:only-of-type {\n",
       "        vertical-align: middle;\n",
       "    }\n",
       "\n",
       "    .dataframe tbody tr th {\n",
       "        vertical-align: top;\n",
       "    }\n",
       "\n",
       "    .dataframe thead th {\n",
       "        text-align: right;\n",
       "    }\n",
       "</style>\n",
       "<table border=\"1\" class=\"dataframe\">\n",
       "  <thead>\n",
       "    <tr style=\"text-align: right;\">\n",
       "      <th></th>\n",
       "      <th>comment_id</th>\n",
       "      <th>season</th>\n",
       "      <th>match_id</th>\n",
       "      <th>match_name</th>\n",
       "      <th>home_team</th>\n",
       "      <th>away_team</th>\n",
       "      <th>current_innings</th>\n",
       "      <th>innings_id</th>\n",
       "      <th>over</th>\n",
       "      <th>ball</th>\n",
       "      <th>runs</th>\n",
       "      <th>wkt_batsman_runs</th>\n",
       "      <th>isBoundary</th>\n",
       "      <th>isWide</th>\n",
       "      <th>isNoball</th>\n",
       "      <th>batsman1_name</th>\n",
       "      <th>bowler1_name</th>\n",
       "      <th>batsman2_name</th>\n",
       "      <th>text</th>\n",
       "    </tr>\n",
       "  </thead>\n",
       "  <tbody>\n",
       "    <tr>\n",
       "      <th>7718</th>\n",
       "      <td>130</td>\n",
       "      <td>2022</td>\n",
       "      <td>1304079</td>\n",
       "      <td>MI v CSK</td>\n",
       "      <td>MI</td>\n",
       "      <td>CSK</td>\n",
       "      <td>MI</td>\n",
       "      <td>1</td>\n",
       "      <td>1</td>\n",
       "      <td>3</td>\n",
       "      <td>0</td>\n",
       "      <td>3111</td>\n",
       "      <td>0</td>\n",
       "      <td>0</td>\n",
       "      <td>0</td>\n",
       "      <td>Dewald Brevis</td>\n",
       "      <td>Mukesh Choudhary</td>\n",
       "      <td>Ishan Kishan</td>\n",
       "      <td>full, swinging in, pushed back to Choudhary</td>\n",
       "    </tr>\n",
       "    <tr>\n",
       "      <th>13923</th>\n",
       "      <td>130</td>\n",
       "      <td>2022</td>\n",
       "      <td>1304105</td>\n",
       "      <td>CSK v MI</td>\n",
       "      <td>CSK</td>\n",
       "      <td>MI</td>\n",
       "      <td>CSK</td>\n",
       "      <td>1</td>\n",
       "      <td>1</td>\n",
       "      <td>3</td>\n",
       "      <td>0</td>\n",
       "      <td>3111</td>\n",
       "      <td>0</td>\n",
       "      <td>0</td>\n",
       "      <td>0</td>\n",
       "      <td>Moeen Ali</td>\n",
       "      <td>Daniel Sams</td>\n",
       "      <td>Ruturaj Gaikwad</td>\n",
       "      <td>Good length on fourth stump, defended to point</td>\n",
       "    </tr>\n",
       "  </tbody>\n",
       "</table>\n",
       "</div>"
      ],
      "text/plain": [
       "       comment_id  season  match_id match_name home_team away_team  \\\n",
       "7718          130    2022   1304079   MI v CSK        MI       CSK   \n",
       "13923         130    2022   1304105   CSK v MI       CSK        MI   \n",
       "\n",
       "      current_innings  innings_id  over  ball  runs  wkt_batsman_runs  \\\n",
       "7718               MI           1     1     3     0              3111   \n",
       "13923             CSK           1     1     3     0              3111   \n",
       "\n",
       "       isBoundary  isWide  isNoball  batsman1_name      bowler1_name  \\\n",
       "7718            0       0         0  Dewald Brevis  Mukesh Choudhary   \n",
       "13923           0       0         0      Moeen Ali       Daniel Sams   \n",
       "\n",
       "         batsman2_name                                            text  \n",
       "7718      Ishan Kishan     full, swinging in, pushed back to Choudhary  \n",
       "13923  Ruturaj Gaikwad  Good length on fourth stump, defended to point  "
      ]
     },
     "execution_count": 26,
     "metadata": {},
     "output_type": "execute_result"
    }
   ],
   "source": [
    "df3"
   ]
  },
  {
   "cell_type": "code",
   "execution_count": 27,
   "id": "8952de1d",
   "metadata": {},
   "outputs": [
    {
     "data": {
      "text/plain": [
       "True"
      ]
     },
     "execution_count": 27,
     "metadata": {},
     "output_type": "execute_result"
    }
   ],
   "source": [
    "len(df3.index)>1"
   ]
  },
  {
   "cell_type": "code",
   "execution_count": 28,
   "id": "0105a02d",
   "metadata": {},
   "outputs": [],
   "source": [
    "a=df3['isBoundary'].iloc[0]\n"
   ]
  },
  {
   "cell_type": "code",
   "execution_count": 29,
   "id": "910c6cbd",
   "metadata": {},
   "outputs": [
    {
     "data": {
      "text/plain": [
       "0"
      ]
     },
     "execution_count": 29,
     "metadata": {},
     "output_type": "execute_result"
    }
   ],
   "source": [
    "a "
   ]
  },
  {
   "cell_type": "code",
   "execution_count": 30,
   "id": "25940087",
   "metadata": {},
   "outputs": [],
   "source": [
    "a = str(df3['text'].iloc[0])\n"
   ]
  },
  {
   "cell_type": "code",
   "execution_count": 31,
   "id": "957749a9",
   "metadata": {},
   "outputs": [],
   "source": [
    "a=''"
   ]
  },
  {
   "cell_type": "code",
   "execution_count": 32,
   "id": "fb9364cf",
   "metadata": {},
   "outputs": [],
   "source": [
    "a=a+'a'"
   ]
  },
  {
   "cell_type": "code",
   "execution_count": 33,
   "id": "03c44284",
   "metadata": {},
   "outputs": [
    {
     "ename": "TypeError",
     "evalue": "cannot convert the series to <class 'int'>",
     "output_type": "error",
     "traceback": [
      "\u001b[1;31m---------------------------------------------------------------------------\u001b[0m",
      "\u001b[1;31mTypeError\u001b[0m                                 Traceback (most recent call last)",
      "\u001b[1;32m~\\AppData\\Local\\Temp\\ipykernel_24084\\2968627665.py\u001b[0m in \u001b[0;36m<module>\u001b[1;34m\u001b[0m\n\u001b[1;32m----> 1\u001b[1;33m \u001b[0ma\u001b[0m\u001b[1;33m=\u001b[0m\u001b[0mint\u001b[0m\u001b[1;33m(\u001b[0m\u001b[0mdf3\u001b[0m\u001b[1;33m[\u001b[0m\u001b[1;34m'runs'\u001b[0m\u001b[1;33m]\u001b[0m\u001b[1;33m)\u001b[0m\u001b[1;33m\u001b[0m\u001b[1;33m\u001b[0m\u001b[0m\n\u001b[0m",
      "\u001b[1;32m~\\anaconda3\\lib\\site-packages\\pandas\\core\\series.py\u001b[0m in \u001b[0;36mwrapper\u001b[1;34m(self)\u001b[0m\n\u001b[0;32m    189\u001b[0m         \u001b[1;32mif\u001b[0m \u001b[0mlen\u001b[0m\u001b[1;33m(\u001b[0m\u001b[0mself\u001b[0m\u001b[1;33m)\u001b[0m \u001b[1;33m==\u001b[0m \u001b[1;36m1\u001b[0m\u001b[1;33m:\u001b[0m\u001b[1;33m\u001b[0m\u001b[1;33m\u001b[0m\u001b[0m\n\u001b[0;32m    190\u001b[0m             \u001b[1;32mreturn\u001b[0m \u001b[0mconverter\u001b[0m\u001b[1;33m(\u001b[0m\u001b[0mself\u001b[0m\u001b[1;33m.\u001b[0m\u001b[0miloc\u001b[0m\u001b[1;33m[\u001b[0m\u001b[1;36m0\u001b[0m\u001b[1;33m]\u001b[0m\u001b[1;33m)\u001b[0m\u001b[1;33m\u001b[0m\u001b[1;33m\u001b[0m\u001b[0m\n\u001b[1;32m--> 191\u001b[1;33m         \u001b[1;32mraise\u001b[0m \u001b[0mTypeError\u001b[0m\u001b[1;33m(\u001b[0m\u001b[1;34mf\"cannot convert the series to {converter}\"\u001b[0m\u001b[1;33m)\u001b[0m\u001b[1;33m\u001b[0m\u001b[1;33m\u001b[0m\u001b[0m\n\u001b[0m\u001b[0;32m    192\u001b[0m \u001b[1;33m\u001b[0m\u001b[0m\n\u001b[0;32m    193\u001b[0m     \u001b[0mwrapper\u001b[0m\u001b[1;33m.\u001b[0m\u001b[0m__name__\u001b[0m \u001b[1;33m=\u001b[0m \u001b[1;34mf\"__{converter.__name__}__\"\u001b[0m\u001b[1;33m\u001b[0m\u001b[1;33m\u001b[0m\u001b[0m\n",
      "\u001b[1;31mTypeError\u001b[0m: cannot convert the series to <class 'int'>"
     ]
    }
   ],
   "source": [
    "a=int(df3['runs'])"
   ]
  },
  {
   "cell_type": "code",
   "execution_count": 34,
   "id": "5fe593bd",
   "metadata": {},
   "outputs": [],
   "source": [
    "def abc(hometeam,awayteam,innid,season,over,ball):\n",
    "    if(len(df.index)>1):\n",
    "        df.drop(df.index.to_list()[1:], axis=0)\n",
    "        \n",
    "    df3=df.loc[(((df['home_team'] == hometeam) & (df['away_team'] == awayteam))   | ((df['home_team'] == awayteam) & (df['away_team'] == hometeam))) & (df['innings_id'] == innid)& (df['season'] == season)& (df['over'] == over)&(df['ball'] == ball)]\n",
    "    if(len(df3.index)>1):\n",
    "        df3=df3.drop(df3.index.to_list()[1:], axis=0)\n",
    "    runs=int(df3['runs'])\n",
    "    batsman_name=str(df3['batsman1_name'].iloc[0])\n",
    "    current_inning=str(df3['current_innings'].iloc[0])\n",
    "    bowler_name=str(df3['bowler1_name'].iloc[0])\n",
    "    commentry=str(df3['text'].iloc[0])\n",
    "    type=''\n",
    "    num=0\n",
    "    if(df3['isBoundary'].iloc[0]==1):\n",
    "        type=type+\" Boundary\"\n",
    "        num=1\n",
    "    if(df3['isWide'].iloc[0]==1):\n",
    "        num=1\n",
    "        type=type+\" wide\"\n",
    "    if(df3['isNoball'].iloc[0]==1):\n",
    "        num=1\n",
    "        type=type+\" No ball\"\n",
    "    if(df3['wkt_batsman_runs'].iloc[0]!=3111):\n",
    "        type=type+\" Wicket\"\n",
    "        num=1\n",
    "    if(num==0):\n",
    "        type='Normal Ball'\n",
    "\n",
    "    return runs,batsman_name,current_inning,bowler_name,commentry,type\n",
    "\n",
    "    "
   ]
  },
  {
   "cell_type": "code",
   "execution_count": 35,
   "id": "41245984",
   "metadata": {},
   "outputs": [
    {
     "data": {
      "text/plain": [
       "(0,\n",
       " 'Shubman Gill',\n",
       " 'GT',\n",
       " 'Bhuvneshwar Kumar',\n",
       " 'better line. Full, fourth-stump line. Just a bit of movement away. Gill shoulders his arms',\n",
       " 'Normal Ball')"
      ]
     },
     "execution_count": 35,
     "metadata": {},
     "output_type": "execute_result"
    }
   ],
   "source": [
    "abc('GT','SRH',1,2022,1,3)"
   ]
  },
  {
   "cell_type": "code",
   "execution_count": 36,
   "id": "d82f3eea",
   "metadata": {},
   "outputs": [],
   "source": [
    "df.to_csv('C:\\project work\\sbab.csv', index=False)"
   ]
  },
  {
   "cell_type": "code",
   "execution_count": 38,
   "id": "ba74b23c",
   "metadata": {},
   "outputs": [
    {
     "name": "stdout",
     "output_type": "stream",
     "text": [
      "No.of.unique values : 15\n",
      "unique values : ['CSK', 'DC', 'PBKS', 'GT', 'SRH', 'RCB', 'LSG', 'KKR', 'MI', 'RR', 'KXIP', 'RPS', 'GL', 'PWI', 'Kochi']\n"
     ]
    }
   ],
   "source": [
    "cnt = 0\n",
    "visited = []\n",
    "for i in range(0, len(df['home_team'])):\n",
    "    \n",
    "    if df['home_team'][i] not in visited: \n",
    "        \n",
    "        visited.append(df['home_team'][i])\n",
    "          \n",
    "        cnt += 1\n",
    "  \n",
    "print(\"No.of.unique values :\",\n",
    "      cnt)\n",
    "  \n",
    "print(\"unique values :\",\n",
    "      visited)"
   ]
  }
 ],
 "metadata": {
  "kernelspec": {
   "display_name": "Python 3 (ipykernel)",
   "language": "python",
   "name": "python3"
  },
  "language_info": {
   "codemirror_mode": {
    "name": "ipython",
    "version": 3
   },
   "file_extension": ".py",
   "mimetype": "text/x-python",
   "name": "python",
   "nbconvert_exporter": "python",
   "pygments_lexer": "ipython3",
   "version": "3.9.13"
  }
 },
 "nbformat": 4,
 "nbformat_minor": 5
}
