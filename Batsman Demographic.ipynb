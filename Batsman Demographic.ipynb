{
 "cells": [
  {
   "cell_type": "code",
   "execution_count": 45,
   "id": "9a29e72d",
   "metadata": {},
   "outputs": [
    {
     "data": {
      "text/html": [
       "<div>\n",
       "<style scoped>\n",
       "    .dataframe tbody tr th:only-of-type {\n",
       "        vertical-align: middle;\n",
       "    }\n",
       "\n",
       "    .dataframe tbody tr th {\n",
       "        vertical-align: top;\n",
       "    }\n",
       "\n",
       "    .dataframe thead th {\n",
       "        text-align: right;\n",
       "    }\n",
       "</style>\n",
       "<table border=\"1\" class=\"dataframe\">\n",
       "  <thead>\n",
       "    <tr style=\"text-align: right;\">\n",
       "      <th></th>\n",
       "      <th>season</th>\n",
       "      <th>match_id</th>\n",
       "      <th>match_name</th>\n",
       "      <th>home_team</th>\n",
       "      <th>away_team</th>\n",
       "      <th>venue</th>\n",
       "      <th>city</th>\n",
       "      <th>country</th>\n",
       "      <th>current_innings</th>\n",
       "      <th>innings_id</th>\n",
       "      <th>...</th>\n",
       "      <th>fours</th>\n",
       "      <th>sixes</th>\n",
       "      <th>strikeRate</th>\n",
       "      <th>captain</th>\n",
       "      <th>isNotOut</th>\n",
       "      <th>runningScore</th>\n",
       "      <th>runningOver</th>\n",
       "      <th>shortText</th>\n",
       "      <th>commentary</th>\n",
       "      <th>link</th>\n",
       "    </tr>\n",
       "  </thead>\n",
       "  <tbody>\n",
       "    <tr>\n",
       "      <th>0</th>\n",
       "      <td>2022</td>\n",
       "      <td>1304047</td>\n",
       "      <td>CSK v KKR</td>\n",
       "      <td>CSK</td>\n",
       "      <td>KKR</td>\n",
       "      <td>Wankhede Stadium, Mumbai</td>\n",
       "      <td>Mumbai</td>\n",
       "      <td>India</td>\n",
       "      <td>CSK</td>\n",
       "      <td>1</td>\n",
       "      <td>...</td>\n",
       "      <td>0.0</td>\n",
       "      <td>0.0</td>\n",
       "      <td>0.00</td>\n",
       "      <td>False</td>\n",
       "      <td>False</td>\n",
       "      <td>{'wickets': 1, 'runs': 2}</td>\n",
       "      <td>0.3</td>\n",
       "      <td>c Rana b Yadav</td>\n",
       "      <td>&lt;b&gt; edged and taken at slip! &lt;/b&gt; Uncharacteri...</td>\n",
       "      <td>NaN</td>\n",
       "    </tr>\n",
       "    <tr>\n",
       "      <th>1</th>\n",
       "      <td>2022</td>\n",
       "      <td>1304047</td>\n",
       "      <td>CSK v KKR</td>\n",
       "      <td>CSK</td>\n",
       "      <td>KKR</td>\n",
       "      <td>Wankhede Stadium, Mumbai</td>\n",
       "      <td>Mumbai</td>\n",
       "      <td>India</td>\n",
       "      <td>CSK</td>\n",
       "      <td>1</td>\n",
       "      <td>...</td>\n",
       "      <td>0.0</td>\n",
       "      <td>0.0</td>\n",
       "      <td>37.50</td>\n",
       "      <td>False</td>\n",
       "      <td>False</td>\n",
       "      <td>{'wickets': 2, 'runs': 28}</td>\n",
       "      <td>4.1</td>\n",
       "      <td>c SS Iyer b Yadav</td>\n",
       "      <td>chipped straight to mid-on. Conway's debut isn...</td>\n",
       "      <td>NaN</td>\n",
       "    </tr>\n",
       "    <tr>\n",
       "      <th>2</th>\n",
       "      <td>2022</td>\n",
       "      <td>1304047</td>\n",
       "      <td>CSK v KKR</td>\n",
       "      <td>CSK</td>\n",
       "      <td>KKR</td>\n",
       "      <td>Wankhede Stadium, Mumbai</td>\n",
       "      <td>Mumbai</td>\n",
       "      <td>India</td>\n",
       "      <td>CSK</td>\n",
       "      <td>1</td>\n",
       "      <td>...</td>\n",
       "      <td>2.0</td>\n",
       "      <td>2.0</td>\n",
       "      <td>133.33</td>\n",
       "      <td>False</td>\n",
       "      <td>False</td>\n",
       "      <td>{'wickets': 3, 'runs': 49}</td>\n",
       "      <td>7.5</td>\n",
       "      <td>st &amp;dagger;Jackson b Varun</td>\n",
       "      <td>&lt;strong&gt;lightning quick work from Jackson and ...</td>\n",
       "      <td>NaN</td>\n",
       "    </tr>\n",
       "    <tr>\n",
       "      <th>3</th>\n",
       "      <td>2022</td>\n",
       "      <td>1304047</td>\n",
       "      <td>CSK v KKR</td>\n",
       "      <td>CSK</td>\n",
       "      <td>KKR</td>\n",
       "      <td>Wankhede Stadium, Mumbai</td>\n",
       "      <td>Mumbai</td>\n",
       "      <td>India</td>\n",
       "      <td>CSK</td>\n",
       "      <td>1</td>\n",
       "      <td>...</td>\n",
       "      <td>1.0</td>\n",
       "      <td>1.0</td>\n",
       "      <td>88.23</td>\n",
       "      <td>False</td>\n",
       "      <td>False</td>\n",
       "      <td>{'wickets': 4, 'runs': 52}</td>\n",
       "      <td>8.4</td>\n",
       "      <td>run out (SS Iyer/Narine)</td>\n",
       "      <td>what is happening! &lt;strong&gt;Rayudu left high an...</td>\n",
       "      <td>NaN</td>\n",
       "    </tr>\n",
       "    <tr>\n",
       "      <th>4</th>\n",
       "      <td>2022</td>\n",
       "      <td>1304047</td>\n",
       "      <td>CSK v KKR</td>\n",
       "      <td>CSK</td>\n",
       "      <td>KKR</td>\n",
       "      <td>Wankhede Stadium, Mumbai</td>\n",
       "      <td>Mumbai</td>\n",
       "      <td>India</td>\n",
       "      <td>CSK</td>\n",
       "      <td>1</td>\n",
       "      <td>...</td>\n",
       "      <td>0.0</td>\n",
       "      <td>1.0</td>\n",
       "      <td>92.85</td>\n",
       "      <td>True</td>\n",
       "      <td>True</td>\n",
       "      <td>{}</td>\n",
       "      <td>NaN</td>\n",
       "      <td>not out</td>\n",
       "      <td>NaN</td>\n",
       "      <td>NaN</td>\n",
       "    </tr>\n",
       "  </tbody>\n",
       "</table>\n",
       "<p>5 rows × 25 columns</p>\n",
       "</div>"
      ],
      "text/plain": [
       "   season  match_id match_name home_team away_team                     venue  \\\n",
       "0    2022   1304047  CSK v KKR       CSK       KKR  Wankhede Stadium, Mumbai   \n",
       "1    2022   1304047  CSK v KKR       CSK       KKR  Wankhede Stadium, Mumbai   \n",
       "2    2022   1304047  CSK v KKR       CSK       KKR  Wankhede Stadium, Mumbai   \n",
       "3    2022   1304047  CSK v KKR       CSK       KKR  Wankhede Stadium, Mumbai   \n",
       "4    2022   1304047  CSK v KKR       CSK       KKR  Wankhede Stadium, Mumbai   \n",
       "\n",
       "     city country current_innings  innings_id  ... fours sixes  strikeRate  \\\n",
       "0  Mumbai   India             CSK           1  ...   0.0   0.0        0.00   \n",
       "1  Mumbai   India             CSK           1  ...   0.0   0.0       37.50   \n",
       "2  Mumbai   India             CSK           1  ...   2.0   2.0      133.33   \n",
       "3  Mumbai   India             CSK           1  ...   1.0   1.0       88.23   \n",
       "4  Mumbai   India             CSK           1  ...   0.0   1.0       92.85   \n",
       "\n",
       "   captain isNotOut                runningScore  runningOver  \\\n",
       "0    False    False   {'wickets': 1, 'runs': 2}          0.3   \n",
       "1    False    False  {'wickets': 2, 'runs': 28}          4.1   \n",
       "2    False    False  {'wickets': 3, 'runs': 49}          7.5   \n",
       "3    False    False  {'wickets': 4, 'runs': 52}          8.4   \n",
       "4     True     True                          {}          NaN   \n",
       "\n",
       "                    shortText  \\\n",
       "0              c Rana b Yadav   \n",
       "1           c SS Iyer b Yadav   \n",
       "2  st &dagger;Jackson b Varun   \n",
       "3    run out (SS Iyer/Narine)   \n",
       "4                     not out   \n",
       "\n",
       "                                          commentary link  \n",
       "0  <b> edged and taken at slip! </b> Uncharacteri...  NaN  \n",
       "1  chipped straight to mid-on. Conway's debut isn...  NaN  \n",
       "2  <strong>lightning quick work from Jackson and ...  NaN  \n",
       "3  what is happening! <strong>Rayudu left high an...  NaN  \n",
       "4                                                NaN  NaN  \n",
       "\n",
       "[5 rows x 25 columns]"
      ]
     },
     "execution_count": 45,
     "metadata": {},
     "output_type": "execute_result"
    }
   ],
   "source": [
    "import pandas as pd\n",
    "import numpy as np\n",
    "import seaborn as sns\n",
    "# Load the dataset\n",
    "df = pd.read_csv(\"C:/Users/ridit/Downloads/all_season_batting_card.csv\")\n",
    "\n",
    "# Display the first few rows of the dataset\n",
    "df.head()\n"
   ]
  },
  {
   "cell_type": "code",
   "execution_count": 46,
   "id": "cd921a30",
   "metadata": {},
   "outputs": [
    {
     "name": "stdout",
     "output_type": "stream",
     "text": [
      "<class 'pandas.core.frame.DataFrame'>\n",
      "RangeIndex: 14539 entries, 0 to 14538\n",
      "Data columns (total 25 columns):\n",
      " #   Column           Non-Null Count  Dtype  \n",
      "---  ------           --------------  -----  \n",
      " 0   season           14539 non-null  int64  \n",
      " 1   match_id         14539 non-null  int64  \n",
      " 2   match_name       14539 non-null  object \n",
      " 3   home_team        14539 non-null  object \n",
      " 4   away_team        14539 non-null  object \n",
      " 5   venue            14539 non-null  object \n",
      " 6   city             14539 non-null  object \n",
      " 7   country          14539 non-null  object \n",
      " 8   current_innings  14539 non-null  object \n",
      " 9   innings_id       14539 non-null  int64  \n",
      " 10  name             14539 non-null  object \n",
      " 11  fullName         14539 non-null  object \n",
      " 12  runs             14533 non-null  float64\n",
      " 13  ballsFaced       14533 non-null  float64\n",
      " 14  minutes          14533 non-null  object \n",
      " 15  fours            14533 non-null  float64\n",
      " 16  sixes            14533 non-null  float64\n",
      " 17  strikeRate       14533 non-null  object \n",
      " 18  captain          14539 non-null  bool   \n",
      " 19  isNotOut         14533 non-null  object \n",
      " 20  runningScore     14533 non-null  object \n",
      " 21  runningOver      11113 non-null  float64\n",
      " 22  shortText        14539 non-null  object \n",
      " 23  commentary       11110 non-null  object \n",
      " 24  link             0 non-null      float64\n",
      "dtypes: bool(1), float64(6), int64(3), object(15)\n",
      "memory usage: 2.7+ MB\n"
     ]
    }
   ],
   "source": [
    "df.info()"
   ]
  },
  {
   "cell_type": "code",
   "execution_count": 47,
   "id": "3297b540",
   "metadata": {},
   "outputs": [
    {
     "data": {
      "text/plain": [
       "<AxesSubplot:>"
      ]
     },
     "execution_count": 47,
     "metadata": {},
     "output_type": "execute_result"
    },
    {
     "data": {
      "image/png": "[encoded data removed]",
      "text/plain": [
       "<Figure size 640x480 with 1 Axes>"
      ]
     },
     "metadata": {},
     "output_type": "display_data"
    }
   ],
   "source": [
    "sns.heatmap(df.isnull(),yticklabels=False,cbar=False,cmap='viridis')"
   ]
  },
  {
   "cell_type": "code",
   "execution_count": 48,
   "id": "84499e7f",
   "metadata": {},
   "outputs": [],
   "source": [
    "df.drop(\"commentary\",axis=1,inplace=True)\n",
    "df.drop(\"link\",axis=1,inplace=True)"
   ]
  },
  {
   "cell_type": "code",
   "execution_count": 49,
   "id": "7c95ed3a",
   "metadata": {},
   "outputs": [],
   "source": [
    "df['runningOver'].fillna(int(df['runningOver'].mean()),inplace=True)"
   ]
  },
  {
   "cell_type": "code",
   "execution_count": 50,
   "id": "265dbd3e",
   "metadata": {},
   "outputs": [
    {
     "data": {
      "text/plain": [
       "<AxesSubplot:>"
      ]
     },
     "execution_count": 50,
     "metadata": {},
     "output_type": "execute_result"
    },
    {
     "data": {
      "image/png": "[encoded data removed]",
      "text/plain": [
       "<Figure size 640x480 with 1 Axes>"
      ]
     },
     "metadata": {},
     "output_type": "display_data"
    }
   ],
   "source": [
    "sns.heatmap(df.isnull(),yticklabels=False,cbar=False,cmap='viridis')"
   ]
  },
  {
   "cell_type": "code",
   "execution_count": 51,
   "id": "aec6f35f",
   "metadata": {},
   "outputs": [
    {
     "name": "stdout",
     "output_type": "stream",
     "text": [
      "No.of.unique values : 136\n",
      "unique values : [0.0, 3.0, 28.0, 15.0, 26.0, 50.0, 44.0, 16.0, 21.0, 20.0, 25.0, 41.0, 81.0, 8.0, 22.0, 12.0, 7.0, 38.0, 1.0, 48.0, 88.0, 32.0, 43.0, 19.0, 24.0, 10.0, 6.0, 55.0, 54.0, 30.0, 4.0, 33.0, 40.0, 35.0, 2.0, 9.0, 57.0, 13.0, 14.0, 18.0, 5.0, 27.0, 49.0, 17.0, 61.0, 31.0, 11.0, 70.0, 100.0, 84.0, 60.0, 23.0, 68.0, 51.0, 34.0, 37.0, 42.0, 29.0, 45.0, 52.0, 56.0, 39.0, 36.0, 80.0, 64.0, 96.0, 75.0, 66.0, 59.0, 95.0, 87.0, 71.0, 103.0, 73.0, 46.0, 94.0, 58.0, 85.0, 116.0, 67.0, 47.0, 78.0, 65.0, 77.0, 99.0, 62.0, 92.0, 63.0, 89.0, 53.0, 76.0, 140.0, 93.0, 112.0, 79.0, 106.0, 86.0, 82.0, 69.0, 98.0, 101.0, 74.0, 124.0, 72.0, 91.0, 119.0, 132.0, 83.0, 97.0, 90.0, 107.0, nan, 102.0, 114.0, 105.0, 104.0, 128.0, 117.0, 126.0, 108.0, 109.0, 129.0, 113.0, 133.0, nan, 122.0, 115.0, 175.0, nan, 120.0, nan, 127.0, 110.0, nan, nan, 158.0]\n"
     ]
    }
   ],
   "source": [
    "cnt = 0\n",
    "visited = []\n",
    "for i in range(0, len(df['runs'])):\n",
    "    \n",
    "    if df['runs'][i] not in visited: \n",
    "        \n",
    "        visited.append(df['runs'][i])\n",
    "          \n",
    "        cnt += 1\n",
    "  \n",
    "print(\"No.of.unique values :\",\n",
    "      cnt)\n",
    "  \n",
    "print(\"unique values :\",\n",
    "      visited)"
   ]
  },
  {
   "cell_type": "code",
   "execution_count": 52,
   "id": "c8baf796",
   "metadata": {},
   "outputs": [
    {
     "data": {
      "text/plain": [
       "array([ 3038,  7642,  9490, 11942, 12985, 13068], dtype=int64)"
      ]
     },
     "execution_count": 52,
     "metadata": {},
     "output_type": "execute_result"
    }
   ],
   "source": [
    "df['runs'].isna().sum()\n",
    "np.where(df['runs'].isnull() == True)[0]\n"
   ]
  },
  {
   "cell_type": "code",
   "execution_count": 53,
   "id": "0b742741",
   "metadata": {},
   "outputs": [
    {
     "data": {
      "text/plain": [
       "array([ 3038,  7642,  9490, 11942, 12985, 13068], dtype=int64)"
      ]
     },
     "execution_count": 53,
     "metadata": {},
     "output_type": "execute_result"
    }
   ],
   "source": [
    "df['ballsFaced'].isna().sum()\n",
    "np.where(df['ballsFaced'].isnull() == True)[0]"
   ]
  },
  {
   "cell_type": "code",
   "execution_count": 54,
   "id": "b4a5d7bd",
   "metadata": {},
   "outputs": [
    {
     "data": {
      "text/plain": [
       "array([ 3038,  7642,  9490, 11942, 12985, 13068], dtype=int64)"
      ]
     },
     "execution_count": 54,
     "metadata": {},
     "output_type": "execute_result"
    }
   ],
   "source": [
    "df['fours'].isna().sum()\n",
    "np.where(df['fours'].isnull() == True)[0]\n"
   ]
  },
  {
   "cell_type": "code",
   "execution_count": 55,
   "id": "f68f8207",
   "metadata": {},
   "outputs": [
    {
     "data": {
      "text/plain": [
       "array([ 3038,  7642,  9490, 11942, 12985, 13068], dtype=int64)"
      ]
     },
     "execution_count": 55,
     "metadata": {},
     "output_type": "execute_result"
    }
   ],
   "source": [
    "df['sixes'].isna().sum()\n",
    "np.where(df['sixes'].isnull() == True)[0]"
   ]
  },
  {
   "cell_type": "code",
   "execution_count": 56,
   "id": "489981b7",
   "metadata": {},
   "outputs": [
    {
     "data": {
      "text/plain": [
       "array([ 3038,  7642,  9490, 11942, 12985, 13068], dtype=int64)"
      ]
     },
     "execution_count": 56,
     "metadata": {},
     "output_type": "execute_result"
    }
   ],
   "source": [
    "df['strikeRate'].isna().sum()\n",
    "np.where(df['strikeRate'].isnull() == True)[0]"
   ]
  },
  {
   "cell_type": "code",
   "execution_count": 57,
   "id": "a4d22701",
   "metadata": {},
   "outputs": [],
   "source": [
    "df.drop([3038,  7642,  9490, 11942, 12985, 13068],axis=0,inplace=True)\n"
   ]
  },
  {
   "cell_type": "code",
   "execution_count": 58,
   "id": "3e249507",
   "metadata": {},
   "outputs": [
    {
     "data": {
      "text/plain": [
       "array([], dtype=int64)"
      ]
     },
     "execution_count": 58,
     "metadata": {},
     "output_type": "execute_result"
    }
   ],
   "source": [
    "df['minutes'].isna().sum()\n",
    "np.where(df['minutes'].isnull() == True)[0]"
   ]
  },
  {
   "cell_type": "code",
   "execution_count": 59,
   "id": "d6dedcd6",
   "metadata": {},
   "outputs": [],
   "source": [
    "df[\"captain\"] = df[\"captain\"].astype(int)"
   ]
  },
  {
   "cell_type": "code",
   "execution_count": 60,
   "id": "2d9084de",
   "metadata": {},
   "outputs": [],
   "source": [
    "df[\"isNotOut\"] = df[\"isNotOut\"].astype(int)"
   ]
  },
  {
   "cell_type": "code",
   "execution_count": 61,
   "id": "624163b9",
   "metadata": {},
   "outputs": [
    {
     "data": {
      "text/plain": [
       "season               int64\n",
       "match_id             int64\n",
       "match_name          object\n",
       "home_team           object\n",
       "away_team           object\n",
       "venue               object\n",
       "city                object\n",
       "country             object\n",
       "current_innings     object\n",
       "innings_id           int64\n",
       "name                object\n",
       "fullName            object\n",
       "runs               float64\n",
       "ballsFaced         float64\n",
       "minutes             object\n",
       "fours              float64\n",
       "sixes              float64\n",
       "strikeRate          object\n",
       "captain              int32\n",
       "isNotOut             int32\n",
       "runningScore        object\n",
       "runningOver        float64\n",
       "shortText           object\n",
       "dtype: object"
      ]
     },
     "execution_count": 61,
     "metadata": {},
     "output_type": "execute_result"
    }
   ],
   "source": [
    "df.dtypes"
   ]
  },
  {
   "cell_type": "code",
   "execution_count": 62,
   "id": "93b2ed9d",
   "metadata": {},
   "outputs": [],
   "source": [
    "df = df.replace(['-'], 0)\n"
   ]
  },
  {
   "cell_type": "code",
   "execution_count": 63,
   "id": "b9058f4d",
   "metadata": {},
   "outputs": [],
   "source": [
    "df['runs'] = df['runs'].astype(int)\n"
   ]
  },
  {
   "cell_type": "code",
   "execution_count": 64,
   "id": "e1cb4d3d",
   "metadata": {},
   "outputs": [],
   "source": [
    "df['ballsFaced'] = df['ballsFaced'].astype(int)\n"
   ]
  },
  {
   "cell_type": "code",
   "execution_count": 65,
   "id": "ba37eb57",
   "metadata": {},
   "outputs": [],
   "source": [
    "df['fours'] = df['fours'].astype(int)\n"
   ]
  },
  {
   "cell_type": "code",
   "execution_count": 66,
   "id": "4550ca99",
   "metadata": {},
   "outputs": [],
   "source": [
    "df['sixes'] = df['sixes'].astype(int)\n",
    "df['strikeRate'] = df['strikeRate'].astype(float)\n",
    "df['minutes'] = df['minutes'].astype(float)\n"
   ]
  },
  {
   "cell_type": "code",
   "execution_count": 67,
   "id": "f466a179",
   "metadata": {},
   "outputs": [],
   "source": [
    "df1=df[['runs','ballsFaced']]"
   ]
  },
  {
   "cell_type": "code",
   "execution_count": 68,
   "id": "9c72666f",
   "metadata": {},
   "outputs": [
    {
     "data": {
      "text/plain": [
       "season               int64\n",
       "match_id             int64\n",
       "match_name          object\n",
       "home_team           object\n",
       "away_team           object\n",
       "venue               object\n",
       "city                object\n",
       "country             object\n",
       "current_innings     object\n",
       "innings_id           int64\n",
       "name                object\n",
       "fullName            object\n",
       "runs                 int32\n",
       "ballsFaced           int32\n",
       "minutes            float64\n",
       "fours                int32\n",
       "sixes                int32\n",
       "strikeRate         float64\n",
       "captain              int32\n",
       "isNotOut             int32\n",
       "runningScore        object\n",
       "runningOver        float64\n",
       "shortText           object\n",
       "dtype: object"
      ]
     },
     "execution_count": 68,
     "metadata": {},
     "output_type": "execute_result"
    }
   ],
   "source": [
    "df.dtypes"
   ]
  },
  {
   "cell_type": "code",
   "execution_count": 69,
   "id": "91e38eb3",
   "metadata": {},
   "outputs": [],
   "source": [
    "# df['strikeRate'].isna().sum()\n",
    "# np.where(df['strikeRate'].isnull() == True)[0]"
   ]
  },
  {
   "cell_type": "code",
   "execution_count": 70,
   "id": "bad12f2e",
   "metadata": {},
   "outputs": [
    {
     "name": "stdout",
     "output_type": "stream",
     "text": [
      "0.9315877805853926\n",
      "0.8641393500176645\n",
      "0.757760267146123\n",
      "0.503465259316379\n",
      "0.5885765095899526\n",
      "0.12920257200382604\n",
      "0.0628862828717322\n",
      "0.19376809259357786\n"
     ]
    }
   ],
   "source": [
    "from scipy.stats import pearsonr\n",
    "corr1,_=pearsonr(df['runs'],df['ballsFaced'])\n",
    "corr2,_=pearsonr(df['runs'],df['fours'])\n",
    "corr3,_=pearsonr(df['runs'],df['sixes'])\n",
    "corr4,_=pearsonr(df['runs'],df['strikeRate'])\n",
    "corr5,_=pearsonr(df['runs'],df['minutes'])\n",
    "corr6,_=pearsonr(df['runs'],df['captain'])\n",
    "corr7,_=pearsonr(df['runs'],df['isNotOut'])\n",
    "corr8,_=pearsonr(df['runs'],df['runningOver'])\n",
    "\n",
    "print(corr1)\n",
    "print(corr2)\n",
    "print(corr3)\n",
    "print(corr4)\n",
    "print(corr5)\n",
    "print(corr6)\n",
    "print(corr7)\n",
    "print(corr8)"
   ]
  },
  {
   "cell_type": "code",
   "execution_count": 71,
   "id": "13f202e1",
   "metadata": {},
   "outputs": [],
   "source": [
    "df['opponentteam'] = np.nan"
   ]
  },
  {
   "cell_type": "code",
   "execution_count": 72,
   "id": "3dc5d8d0",
   "metadata": {},
   "outputs": [],
   "source": [
    "df.loc[df['current_innings'] == df['away_team'], 'opponentteam'] = df['home_team']\n",
    "df.loc[df['current_innings'] == df['home_team'], 'opponentteam'] = df['away_team']\n"
   ]
  },
  {
   "cell_type": "code",
   "execution_count": null,
   "id": "d3f6124d",
   "metadata": {
    "scrolled": false
   },
   "outputs": [],
   "source": [
    "df1.drop(df.columns[[2,3,5,6,7,8,9,10]], axis=1, inplace=True)\n"
   ]
  },
  {
   "cell_type": "code",
   "execution_count": 74,
   "id": "cee024a0",
   "metadata": {},
   "outputs": [],
   "source": [
    "import numpy as np\n",
    "import pandas as pd\n",
    "from sklearn.model_selection import train_test_split\n",
    "from sklearn.linear_model import LinearRegression\n",
    "from sklearn.metrics import r2_score\n",
    "import matplotlib.pyplot as plt\n",
    "import seaborn as sns\n",
    "import warnings\n",
    "warnings.filterwarnings(\"ignore\")"
   ]
  },
  {
   "cell_type": "code",
   "execution_count": 78,
   "id": "80083df9",
   "metadata": {},
   "outputs": [
    {
     "name": "stdout",
     "output_type": "stream",
     "text": [
      "(14533, 3) (14533,)\n"
     ]
    }
   ],
   "source": [
    "X1 = df[['ballsFaced','fours','sixes']]\n",
    "y1 = df['runs']\n",
    "\n",
    "print(X1.shape, y1.shape)"
   ]
  },
  {
   "cell_type": "code",
   "execution_count": 79,
   "id": "5c9d56bd",
   "metadata": {},
   "outputs": [],
   "source": [
    "X1_train,X1_test,y1_train,y1_test=train_test_split(X1,y1,test_size=0.2,random_state=0)\n"
   ]
  },
  {
   "cell_type": "code",
   "execution_count": 80,
   "id": "9311be88",
   "metadata": {},
   "outputs": [
    {
     "name": "stdout",
     "output_type": "stream",
     "text": [
      "KNN: 0.9729499038806635\n",
      "Linear Regression: 0.9806423475142928\n",
      "Random Forest: 0.9755265630608836\n"
     ]
    }
   ],
   "source": [
    "from sklearn.neighbors import KNeighborsRegressor\n",
    "from sklearn.linear_model import LinearRegression\n",
    "from sklearn.ensemble import RandomForestRegressor\n",
    "from sklearn.model_selection import train_test_split, cross_val_score\n",
    "\n",
    "models = {\n",
    "    \"KNN\": KNeighborsRegressor(),\n",
    "    \"Linear Regression\": LinearRegression(),\n",
    "    \"Random Forest\": RandomForestRegressor()\n",
    "}\n",
    "\n",
    "# perform 5-fold cross validation and print mean scores\n",
    "for name, model in models.items():\n",
    "    scores = cross_val_score(model, X1_train, y1_train, cv=5)\n",
    "    print(f\"{name}: {np.mean(scores)}\")"
   ]
  },
  {
   "cell_type": "code",
   "execution_count": 81,
   "id": "5acef3bc",
   "metadata": {},
   "outputs": [
    {
     "name": "stdout",
     "output_type": "stream",
     "text": [
      " Accuracy of the model is 98.19\n"
     ]
    }
   ],
   "source": [
    "linreg=LinearRegression()\n",
    "abc=linreg.fit(X1_train,y1_train)\n",
    "y1_pred=abc.predict(X1_test)\n",
    "Accuracy1=r2_score(y1_test,y1_pred)*100\n",
    "print(\" Accuracy of the model is %.2f\" %Accuracy1)\n"
   ]
  },
  {
   "cell_type": "code",
   "execution_count": 82,
   "id": "b5b55e5c",
   "metadata": {},
   "outputs": [
    {
     "data": {
      "image/png": "[encoded data removed]",
      "text/plain": [
       "<Figure size 640x480 with 1 Axes>"
      ]
     },
     "metadata": {},
     "output_type": "display_data"
    }
   ],
   "source": [
    "plt.scatter(y1_test,y1_pred);\n",
    "plt.xlabel('Actual');\n",
    "plt.ylabel('Predicted');"
   ]
  },
  {
   "cell_type": "code",
   "execution_count": 86,
   "id": "c7181bad",
   "metadata": {},
   "outputs": [
    {
     "data": {
      "image/png": "[encoded data removed]",
      "text/plain": [
       "<Figure size 640x480 with 1 Axes>"
      ]
     },
     "metadata": {},
     "output_type": "display_data"
    }
   ],
   "source": [
    "sns.regplot(x=y1_test,y=y1_pred,ci=None,color ='red');\n"
   ]
  },
  {
   "cell_type": "code",
   "execution_count": 87,
   "id": "bc1ef044",
   "metadata": {},
   "outputs": [],
   "source": [
    "pred_df=pd.DataFrame({'Actual Value':y1_test,'Predicted Value':y1_pred,'Difference':y1_test-y1_pred})\n"
   ]
  },
  {
   "cell_type": "code",
   "execution_count": 88,
   "id": "70488394",
   "metadata": {},
   "outputs": [
    {
     "data": {
      "text/html": [
       "<div>\n",
       "<style scoped>\n",
       "    .dataframe tbody tr th:only-of-type {\n",
       "        vertical-align: middle;\n",
       "    }\n",
       "\n",
       "    .dataframe tbody tr th {\n",
       "        vertical-align: top;\n",
       "    }\n",
       "\n",
       "    .dataframe thead th {\n",
       "        text-align: right;\n",
       "    }\n",
       "</style>\n",
       "<table border=\"1\" class=\"dataframe\">\n",
       "  <thead>\n",
       "    <tr style=\"text-align: right;\">\n",
       "      <th></th>\n",
       "      <th>Actual Value</th>\n",
       "      <th>Predicted Value</th>\n",
       "      <th>Difference</th>\n",
       "    </tr>\n",
       "  </thead>\n",
       "  <tbody>\n",
       "    <tr>\n",
       "      <th>9418</th>\n",
       "      <td>23</td>\n",
       "      <td>27.334035</td>\n",
       "      <td>-4.334035</td>\n",
       "    </tr>\n",
       "    <tr>\n",
       "      <th>10439</th>\n",
       "      <td>24</td>\n",
       "      <td>19.889432</td>\n",
       "      <td>4.110568</td>\n",
       "    </tr>\n",
       "    <tr>\n",
       "      <th>2976</th>\n",
       "      <td>2</td>\n",
       "      <td>1.203597</td>\n",
       "      <td>0.796403</td>\n",
       "    </tr>\n",
       "    <tr>\n",
       "      <th>11686</th>\n",
       "      <td>58</td>\n",
       "      <td>53.663744</td>\n",
       "      <td>4.336256</td>\n",
       "    </tr>\n",
       "    <tr>\n",
       "      <th>4756</th>\n",
       "      <td>0</td>\n",
       "      <td>0.500590</td>\n",
       "      <td>-0.500590</td>\n",
       "    </tr>\n",
       "    <tr>\n",
       "      <th>...</th>\n",
       "      <td>...</td>\n",
       "      <td>...</td>\n",
       "      <td>...</td>\n",
       "    </tr>\n",
       "    <tr>\n",
       "      <th>1417</th>\n",
       "      <td>2</td>\n",
       "      <td>1.906605</td>\n",
       "      <td>0.093395</td>\n",
       "    </tr>\n",
       "    <tr>\n",
       "      <th>11027</th>\n",
       "      <td>1</td>\n",
       "      <td>1.203597</td>\n",
       "      <td>-0.203597</td>\n",
       "    </tr>\n",
       "    <tr>\n",
       "      <th>12635</th>\n",
       "      <td>13</td>\n",
       "      <td>13.267009</td>\n",
       "      <td>-0.267009</td>\n",
       "    </tr>\n",
       "    <tr>\n",
       "      <th>5568</th>\n",
       "      <td>8</td>\n",
       "      <td>8.742065</td>\n",
       "      <td>-0.742065</td>\n",
       "    </tr>\n",
       "    <tr>\n",
       "      <th>11404</th>\n",
       "      <td>20</td>\n",
       "      <td>19.298715</td>\n",
       "      <td>0.701285</td>\n",
       "    </tr>\n",
       "  </tbody>\n",
       "</table>\n",
       "<p>2907 rows × 3 columns</p>\n",
       "</div>"
      ],
      "text/plain": [
       "       Actual Value  Predicted Value  Difference\n",
       "9418             23        27.334035   -4.334035\n",
       "10439            24        19.889432    4.110568\n",
       "2976              2         1.203597    0.796403\n",
       "11686            58        53.663744    4.336256\n",
       "4756              0         0.500590   -0.500590\n",
       "...             ...              ...         ...\n",
       "1417              2         1.906605    0.093395\n",
       "11027             1         1.203597   -0.203597\n",
       "12635            13        13.267009   -0.267009\n",
       "5568              8         8.742065   -0.742065\n",
       "11404            20        19.298715    0.701285\n",
       "\n",
       "[2907 rows x 3 columns]"
      ]
     },
     "execution_count": 88,
     "metadata": {},
     "output_type": "execute_result"
    }
   ],
   "source": [
    "pred_df\n",
    "# try R-square"
   ]
  },
  {
   "cell_type": "code",
   "execution_count": 89,
   "id": "ab057c3f",
   "metadata": {},
   "outputs": [],
   "source": [
    "df1=df['strikeRate']"
   ]
  },
  {
   "cell_type": "code",
   "execution_count": 90,
   "id": "6631408b",
   "metadata": {},
   "outputs": [
    {
     "data": {
      "text/plain": [
       "season               int64\n",
       "match_id             int64\n",
       "match_name          object\n",
       "home_team           object\n",
       "away_team           object\n",
       "venue               object\n",
       "city                object\n",
       "country             object\n",
       "current_innings     object\n",
       "innings_id           int64\n",
       "name                object\n",
       "fullName            object\n",
       "runs                 int32\n",
       "ballsFaced           int32\n",
       "minutes            float64\n",
       "fours                int32\n",
       "sixes                int32\n",
       "strikeRate         float64\n",
       "captain              int32\n",
       "isNotOut             int32\n",
       "runningScore        object\n",
       "runningOver        float64\n",
       "shortText           object\n",
       "opponentteam        object\n",
       "dtype: object"
      ]
     },
     "execution_count": 90,
     "metadata": {},
     "output_type": "execute_result"
    }
   ],
   "source": [
    "df.dtypes"
   ]
  },
  {
   "cell_type": "code",
   "execution_count": 91,
   "id": "94a835e2",
   "metadata": {},
   "outputs": [],
   "source": [
    "df['strikeRate'] = df['strikeRate'].astype(float)\n",
    "df['minutes'] = df['minutes'].astype(float)"
   ]
  },
  {
   "cell_type": "code",
   "execution_count": 39,
   "id": "23901f13",
   "metadata": {},
   "outputs": [],
   "source": [
    "# Continue with the same pipeline\n",
    "# based on correlation coefficient, we have found runs scored by a batsman is highly correlated with 1,2,3 and 4. \n",
    "# Hence, we are using these columns to fit a multi-variate linear regression model to predict runs scored by batsman ABD during P vs Q match.\n",
    "# runs_scored will be target variable\n",
    "# balls, fours, sixes will be dependent variables. \n",
    "# 98% accuracy we will get\n",
    "# What will we ask from user? We will ask who is P and Q in P vs Q match.\n",
    "# What will we provide? Our model will provide list of runs could be scored by a batsman in P team. "
   ]
  },
  {
   "cell_type": "code",
   "execution_count": 40,
   "id": "867ba672",
   "metadata": {},
   "outputs": [],
   "source": [
    "# Second approach\n",
    "# What will you ask from the user? When did the batsman enter the field, did he open or how many balls in game did he enter.\n",
    "# What will we provide? Assuming the batsman will face half the remaining balls, we will provide the runs scored by him in remaining balls.\n",
    "# Our target variable will still be run.\n",
    "# But our dependent variables will be ballsRemaining and ballsFaced\n",
    "# please confirm whether can we used some processed data for testing purposes (Last 10 match strikerate instead of present match strikerate)"
   ]
  },
  {
   "cell_type": "code",
   "execution_count": 93,
   "id": "0fa3eb29",
   "metadata": {},
   "outputs": [],
   "source": [
    "run=0\n",
    "import math\n",
    "\n",
    "def abc(balls,teamname,batsmanname):\n",
    "    df1=df.loc[(df['fullName'] == batsmanname) & (df['away_team'] == teamname) ]\n",
    "    X1 = df1[['ballsFaced']]\n",
    "    y1 = df1['runs']\n",
    "    X1_train,X1_test,y1_train,y1_test=train_test_split(X1,y1,test_size=0.1,random_state=0)\n",
    "    linreg=LinearRegression()\n",
    "    abc=linreg.fit(X1_train,y1_train)\n",
    "    y1_pred=abc.predict(X1_test)\n",
    "    Accuracy1=r2_score(y1_test,y1_pred)*100\n",
    "    if(math.isnan (Accuracy1)):\n",
    "        print(\"cant say \")\n",
    "    else:\n",
    "        print(\" Accuracy of the model is %.2f\" %Accuracy1)\n",
    "\n",
    "    y2_pred=abc.predict([[balls]])\n",
    "    print(y2_pred)\n",
    "    \n",
    "\n",
    "    "
   ]
  },
  {
   "cell_type": "code",
   "execution_count": 94,
   "id": "c09a0d3d",
   "metadata": {},
   "outputs": [
    {
     "name": "stdout",
     "output_type": "stream",
     "text": [
      "cant say \n",
      "[30.25402108]\n"
     ]
    }
   ],
   "source": [
    "abc(25,\"KKR\",\"Ruturaj Gaikwad\")"
   ]
  },
  {
   "cell_type": "code",
   "execution_count": 44,
   "id": "903f1c1b",
   "metadata": {},
   "outputs": [],
   "source": [
    "df.to_csv('C:\\project work\\sbatting2.csv', index=False)"
   ]
  },
  {
   "cell_type": "code",
   "execution_count": 95,
   "id": "fe375671",
   "metadata": {},
   "outputs": [],
   "source": [
    "df=df.drop(['match_name','venue','city','country','innings_id','name','minutes','captain','isNotOut','runningScore','runningOver','shortText'], axis=1)\n"
   ]
  },
  {
   "cell_type": "code",
   "execution_count": 96,
   "id": "f68f6f49",
   "metadata": {},
   "outputs": [],
   "source": [
    "df=df.drop(['home_team','away_team','current_innings'], axis=1)\n"
   ]
  },
  {
   "cell_type": "code",
   "execution_count": 97,
   "id": "bf38d099",
   "metadata": {},
   "outputs": [
    {
     "data": {
      "text/html": [
       "<div>\n",
       "<style scoped>\n",
       "    .dataframe tbody tr th:only-of-type {\n",
       "        vertical-align: middle;\n",
       "    }\n",
       "\n",
       "    .dataframe tbody tr th {\n",
       "        vertical-align: top;\n",
       "    }\n",
       "\n",
       "    .dataframe thead th {\n",
       "        text-align: right;\n",
       "    }\n",
       "</style>\n",
       "<table border=\"1\" class=\"dataframe\">\n",
       "  <thead>\n",
       "    <tr style=\"text-align: right;\">\n",
       "      <th></th>\n",
       "      <th>season</th>\n",
       "      <th>match_id</th>\n",
       "      <th>fullName</th>\n",
       "      <th>runs</th>\n",
       "      <th>ballsFaced</th>\n",
       "      <th>fours</th>\n",
       "      <th>sixes</th>\n",
       "      <th>strikeRate</th>\n",
       "      <th>opponentteam</th>\n",
       "    </tr>\n",
       "  </thead>\n",
       "  <tbody>\n",
       "    <tr>\n",
       "      <th>0</th>\n",
       "      <td>2022</td>\n",
       "      <td>1304047</td>\n",
       "      <td>Ruturaj Gaikwad</td>\n",
       "      <td>0</td>\n",
       "      <td>4</td>\n",
       "      <td>0</td>\n",
       "      <td>0</td>\n",
       "      <td>0.00</td>\n",
       "      <td>KKR</td>\n",
       "    </tr>\n",
       "    <tr>\n",
       "      <th>1</th>\n",
       "      <td>2022</td>\n",
       "      <td>1304047</td>\n",
       "      <td>Devon Conway</td>\n",
       "      <td>3</td>\n",
       "      <td>8</td>\n",
       "      <td>0</td>\n",
       "      <td>0</td>\n",
       "      <td>37.50</td>\n",
       "      <td>KKR</td>\n",
       "    </tr>\n",
       "    <tr>\n",
       "      <th>2</th>\n",
       "      <td>2022</td>\n",
       "      <td>1304047</td>\n",
       "      <td>Robin Uthappa</td>\n",
       "      <td>28</td>\n",
       "      <td>21</td>\n",
       "      <td>2</td>\n",
       "      <td>2</td>\n",
       "      <td>133.33</td>\n",
       "      <td>KKR</td>\n",
       "    </tr>\n",
       "    <tr>\n",
       "      <th>3</th>\n",
       "      <td>2022</td>\n",
       "      <td>1304047</td>\n",
       "      <td>Ambati Rayudu</td>\n",
       "      <td>15</td>\n",
       "      <td>17</td>\n",
       "      <td>1</td>\n",
       "      <td>1</td>\n",
       "      <td>88.23</td>\n",
       "      <td>KKR</td>\n",
       "    </tr>\n",
       "    <tr>\n",
       "      <th>4</th>\n",
       "      <td>2022</td>\n",
       "      <td>1304047</td>\n",
       "      <td>Ravindra Jadeja</td>\n",
       "      <td>26</td>\n",
       "      <td>28</td>\n",
       "      <td>0</td>\n",
       "      <td>1</td>\n",
       "      <td>92.85</td>\n",
       "      <td>KKR</td>\n",
       "    </tr>\n",
       "    <tr>\n",
       "      <th>...</th>\n",
       "      <td>...</td>\n",
       "      <td>...</td>\n",
       "      <td>...</td>\n",
       "      <td>...</td>\n",
       "      <td>...</td>\n",
       "      <td>...</td>\n",
       "      <td>...</td>\n",
       "      <td>...</td>\n",
       "      <td>...</td>\n",
       "    </tr>\n",
       "    <tr>\n",
       "      <th>14534</th>\n",
       "      <td>2008</td>\n",
       "      <td>336040</td>\n",
       "      <td>Yusuf Pathan</td>\n",
       "      <td>56</td>\n",
       "      <td>39</td>\n",
       "      <td>3</td>\n",
       "      <td>4</td>\n",
       "      <td>143.58</td>\n",
       "      <td>CSK</td>\n",
       "    </tr>\n",
       "    <tr>\n",
       "      <th>14535</th>\n",
       "      <td>2008</td>\n",
       "      <td>336040</td>\n",
       "      <td>Mohammad Kaif</td>\n",
       "      <td>12</td>\n",
       "      <td>9</td>\n",
       "      <td>0</td>\n",
       "      <td>1</td>\n",
       "      <td>133.33</td>\n",
       "      <td>CSK</td>\n",
       "    </tr>\n",
       "    <tr>\n",
       "      <th>14536</th>\n",
       "      <td>2008</td>\n",
       "      <td>336040</td>\n",
       "      <td>Ravindra Jadeja</td>\n",
       "      <td>0</td>\n",
       "      <td>1</td>\n",
       "      <td>0</td>\n",
       "      <td>0</td>\n",
       "      <td>0.00</td>\n",
       "      <td>CSK</td>\n",
       "    </tr>\n",
       "    <tr>\n",
       "      <th>14537</th>\n",
       "      <td>2008</td>\n",
       "      <td>336040</td>\n",
       "      <td>Shane Warne</td>\n",
       "      <td>9</td>\n",
       "      <td>9</td>\n",
       "      <td>1</td>\n",
       "      <td>0</td>\n",
       "      <td>100.00</td>\n",
       "      <td>CSK</td>\n",
       "    </tr>\n",
       "    <tr>\n",
       "      <th>14538</th>\n",
       "      <td>2008</td>\n",
       "      <td>336040</td>\n",
       "      <td>Sohail Tanvir</td>\n",
       "      <td>9</td>\n",
       "      <td>7</td>\n",
       "      <td>0</td>\n",
       "      <td>0</td>\n",
       "      <td>128.57</td>\n",
       "      <td>CSK</td>\n",
       "    </tr>\n",
       "  </tbody>\n",
       "</table>\n",
       "<p>14533 rows × 9 columns</p>\n",
       "</div>"
      ],
      "text/plain": [
       "       season  match_id         fullName  runs  ballsFaced  fours  sixes  \\\n",
       "0        2022   1304047  Ruturaj Gaikwad     0           4      0      0   \n",
       "1        2022   1304047     Devon Conway     3           8      0      0   \n",
       "2        2022   1304047    Robin Uthappa    28          21      2      2   \n",
       "3        2022   1304047    Ambati Rayudu    15          17      1      1   \n",
       "4        2022   1304047  Ravindra Jadeja    26          28      0      1   \n",
       "...       ...       ...              ...   ...         ...    ...    ...   \n",
       "14534    2008    336040     Yusuf Pathan    56          39      3      4   \n",
       "14535    2008    336040    Mohammad Kaif    12           9      0      1   \n",
       "14536    2008    336040  Ravindra Jadeja     0           1      0      0   \n",
       "14537    2008    336040      Shane Warne     9           9      1      0   \n",
       "14538    2008    336040    Sohail Tanvir     9           7      0      0   \n",
       "\n",
       "       strikeRate opponentteam  \n",
       "0            0.00          KKR  \n",
       "1           37.50          KKR  \n",
       "2          133.33          KKR  \n",
       "3           88.23          KKR  \n",
       "4           92.85          KKR  \n",
       "...           ...          ...  \n",
       "14534      143.58          CSK  \n",
       "14535      133.33          CSK  \n",
       "14536        0.00          CSK  \n",
       "14537      100.00          CSK  \n",
       "14538      128.57          CSK  \n",
       "\n",
       "[14533 rows x 9 columns]"
      ]
     },
     "execution_count": 97,
     "metadata": {},
     "output_type": "execute_result"
    }
   ],
   "source": [
    "df"
   ]
  },
  {
   "cell_type": "code",
   "execution_count": 100,
   "id": "e0cf5271",
   "metadata": {},
   "outputs": [],
   "source": [
    "import pickle\n",
    "\n",
    "with open('C:/project work/batpkl.pkl', 'wb') as f:\n",
    "    pickle.dump(linreg, f)"
   ]
  }
 ],
 "metadata": {
  "kernelspec": {
   "display_name": "Python 3 (ipykernel)",
   "language": "python",
   "name": "python3"
  },
  "language_info": {
   "codemirror_mode": {
    "name": "ipython",
    "version": 3
   },
   "file_extension": ".py",
   "mimetype": "text/x-python",
   "name": "python",
   "nbconvert_exporter": "python",
   "pygments_lexer": "ipython3",
   "version": "3.9.13"
  }
 },
 "nbformat": 4,
 "nbformat_minor": 5
}
