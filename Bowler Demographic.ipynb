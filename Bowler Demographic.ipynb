{
 "cells": [
  {
   "cell_type": "code",
   "execution_count": 1,
   "metadata": {},
   "outputs": [
    {
     "data": {
      "text/html": [
       "<div>\n",
       "<style scoped>\n",
       "    .dataframe tbody tr th:only-of-type {\n",
       "        vertical-align: middle;\n",
       "    }\n",
       "\n",
       "    .dataframe tbody tr th {\n",
       "        vertical-align: top;\n",
       "    }\n",
       "\n",
       "    .dataframe thead th {\n",
       "        text-align: right;\n",
       "    }\n",
       "</style>\n",
       "<table border=\"1\" class=\"dataframe\">\n",
       "  <thead>\n",
       "    <tr style=\"text-align: right;\">\n",
       "      <th></th>\n",
       "      <th>season</th>\n",
       "      <th>match_id</th>\n",
       "      <th>match_name</th>\n",
       "      <th>home_team</th>\n",
       "      <th>away_team</th>\n",
       "      <th>bowling_team</th>\n",
       "      <th>venue</th>\n",
       "      <th>city</th>\n",
       "      <th>country</th>\n",
       "      <th>innings_id</th>\n",
       "      <th>...</th>\n",
       "      <th>conceded</th>\n",
       "      <th>wickets</th>\n",
       "      <th>economyRate</th>\n",
       "      <th>dots</th>\n",
       "      <th>foursConceded</th>\n",
       "      <th>sixesConceded</th>\n",
       "      <th>wides</th>\n",
       "      <th>noballs</th>\n",
       "      <th>captain</th>\n",
       "      <th>href</th>\n",
       "    </tr>\n",
       "  </thead>\n",
       "  <tbody>\n",
       "    <tr>\n",
       "      <th>0</th>\n",
       "      <td>2022</td>\n",
       "      <td>1304047</td>\n",
       "      <td>CSK v KKR</td>\n",
       "      <td>CSK</td>\n",
       "      <td>KKR</td>\n",
       "      <td>KKR</td>\n",
       "      <td>Wankhede Stadium, Mumbai</td>\n",
       "      <td>Mumbai</td>\n",
       "      <td>India</td>\n",
       "      <td>1</td>\n",
       "      <td>...</td>\n",
       "      <td>20</td>\n",
       "      <td>2</td>\n",
       "      <td>5.0</td>\n",
       "      <td>15</td>\n",
       "      <td>1</td>\n",
       "      <td>1</td>\n",
       "      <td>2</td>\n",
       "      <td>1</td>\n",
       "      <td>False</td>\n",
       "      <td>https://www.espncricinfo.com/ci/content/player...</td>\n",
       "    </tr>\n",
       "    <tr>\n",
       "      <th>1</th>\n",
       "      <td>2022</td>\n",
       "      <td>1304047</td>\n",
       "      <td>CSK v KKR</td>\n",
       "      <td>CSK</td>\n",
       "      <td>KKR</td>\n",
       "      <td>KKR</td>\n",
       "      <td>Wankhede Stadium, Mumbai</td>\n",
       "      <td>Mumbai</td>\n",
       "      <td>India</td>\n",
       "      <td>1</td>\n",
       "      <td>...</td>\n",
       "      <td>35</td>\n",
       "      <td>0</td>\n",
       "      <td>8.75</td>\n",
       "      <td>12</td>\n",
       "      <td>3</td>\n",
       "      <td>2</td>\n",
       "      <td>1</td>\n",
       "      <td>1</td>\n",
       "      <td>False</td>\n",
       "      <td>https://www.espncricinfo.com/ci/content/player...</td>\n",
       "    </tr>\n",
       "    <tr>\n",
       "      <th>2</th>\n",
       "      <td>2022</td>\n",
       "      <td>1304047</td>\n",
       "      <td>CSK v KKR</td>\n",
       "      <td>CSK</td>\n",
       "      <td>KKR</td>\n",
       "      <td>KKR</td>\n",
       "      <td>Wankhede Stadium, Mumbai</td>\n",
       "      <td>Mumbai</td>\n",
       "      <td>India</td>\n",
       "      <td>1</td>\n",
       "      <td>...</td>\n",
       "      <td>23</td>\n",
       "      <td>1</td>\n",
       "      <td>5.75</td>\n",
       "      <td>11</td>\n",
       "      <td>1</td>\n",
       "      <td>1</td>\n",
       "      <td>1</td>\n",
       "      <td>0</td>\n",
       "      <td>False</td>\n",
       "      <td>https://www.espncricinfo.com/ci/content/player...</td>\n",
       "    </tr>\n",
       "    <tr>\n",
       "      <th>3</th>\n",
       "      <td>2022</td>\n",
       "      <td>1304047</td>\n",
       "      <td>CSK v KKR</td>\n",
       "      <td>CSK</td>\n",
       "      <td>KKR</td>\n",
       "      <td>KKR</td>\n",
       "      <td>Wankhede Stadium, Mumbai</td>\n",
       "      <td>Mumbai</td>\n",
       "      <td>India</td>\n",
       "      <td>1</td>\n",
       "      <td>...</td>\n",
       "      <td>15</td>\n",
       "      <td>0</td>\n",
       "      <td>3.75</td>\n",
       "      <td>10</td>\n",
       "      <td>0</td>\n",
       "      <td>0</td>\n",
       "      <td>0</td>\n",
       "      <td>0</td>\n",
       "      <td>False</td>\n",
       "      <td>https://www.espncricinfo.com/ci/content/player...</td>\n",
       "    </tr>\n",
       "    <tr>\n",
       "      <th>4</th>\n",
       "      <td>2022</td>\n",
       "      <td>1304047</td>\n",
       "      <td>CSK v KKR</td>\n",
       "      <td>CSK</td>\n",
       "      <td>KKR</td>\n",
       "      <td>KKR</td>\n",
       "      <td>Wankhede Stadium, Mumbai</td>\n",
       "      <td>Mumbai</td>\n",
       "      <td>India</td>\n",
       "      <td>1</td>\n",
       "      <td>...</td>\n",
       "      <td>38</td>\n",
       "      <td>1</td>\n",
       "      <td>9.5</td>\n",
       "      <td>7</td>\n",
       "      <td>5</td>\n",
       "      <td>1</td>\n",
       "      <td>0</td>\n",
       "      <td>0</td>\n",
       "      <td>False</td>\n",
       "      <td>https://www.espncricinfo.com/ci/content/player...</td>\n",
       "    </tr>\n",
       "  </tbody>\n",
       "</table>\n",
       "<p>5 rows × 24 columns</p>\n",
       "</div>"
      ],
      "text/plain": [
       "   season  match_id match_name home_team away_team bowling_team  \\\n",
       "0    2022   1304047  CSK v KKR       CSK       KKR          KKR   \n",
       "1    2022   1304047  CSK v KKR       CSK       KKR          KKR   \n",
       "2    2022   1304047  CSK v KKR       CSK       KKR          KKR   \n",
       "3    2022   1304047  CSK v KKR       CSK       KKR          KKR   \n",
       "4    2022   1304047  CSK v KKR       CSK       KKR          KKR   \n",
       "\n",
       "                      venue    city country  innings_id  ... conceded wickets  \\\n",
       "0  Wankhede Stadium, Mumbai  Mumbai   India           1  ...       20       2   \n",
       "1  Wankhede Stadium, Mumbai  Mumbai   India           1  ...       35       0   \n",
       "2  Wankhede Stadium, Mumbai  Mumbai   India           1  ...       23       1   \n",
       "3  Wankhede Stadium, Mumbai  Mumbai   India           1  ...       15       0   \n",
       "4  Wankhede Stadium, Mumbai  Mumbai   India           1  ...       38       1   \n",
       "\n",
       "   economyRate  dots  foursConceded  sixesConceded wides  noballs  captain  \\\n",
       "0          5.0    15              1              1     2        1    False   \n",
       "1         8.75    12              3              2     1        1    False   \n",
       "2         5.75    11              1              1     1        0    False   \n",
       "3         3.75    10              0              0     0        0    False   \n",
       "4          9.5     7              5              1     0        0    False   \n",
       "\n",
       "                                                href  \n",
       "0  https://www.espncricinfo.com/ci/content/player...  \n",
       "1  https://www.espncricinfo.com/ci/content/player...  \n",
       "2  https://www.espncricinfo.com/ci/content/player...  \n",
       "3  https://www.espncricinfo.com/ci/content/player...  \n",
       "4  https://www.espncricinfo.com/ci/content/player...  \n",
       "\n",
       "[5 rows x 24 columns]"
      ]
     },
     "execution_count": 1,
     "metadata": {},
     "output_type": "execute_result"
    }
   ],
   "source": [
    "import pandas as pd\n",
    "import numpy as np\n",
    "import seaborn as sns\n",
    "# Load the dataset\n",
    "df = pd.read_csv(\"C:/Users/ridit/Downloads/all_season_bowling_card.csv\")\n",
    "\n",
    "# Display the first few rows of the dataset\n",
    "df.head()"
   ]
  },
  {
   "cell_type": "code",
   "execution_count": 6,
   "metadata": {},
   "outputs": [
    {
     "data": {
      "text/plain": [
       "<AxesSubplot:>"
      ]
     },
     "execution_count": 6,
     "metadata": {},
     "output_type": "execute_result"
    },
    {
     "data": {
      "image/png": "[encoded data removed]",
      "text/plain": [
       "<Figure size 640x480 with 1 Axes>"
      ]
     },
     "metadata": {},
     "output_type": "display_data"
    }
   ],
   "source": [
    "df.drop(\"country\",axis=1,inplace=True)\n",
    "df.drop(\"city\",axis=1,inplace=True)\n",
    "df.drop(\"name\",axis=1,inplace=True)\n",
    "df.drop(\"venue\",axis=1,inplace=True)\n",
    "# df['runningOver'].fillna(int(df['runningOver'].mean()),inplace=True)\n",
    "sns.heatmap(df.isnull(),yticklabels=False,cbar=False,cmap='viridis')"
   ]
  },
  {
   "cell_type": "code",
   "execution_count": 7,
   "metadata": {},
   "outputs": [
    {
     "data": {
      "text/plain": [
       "array([], dtype=int64)"
      ]
     },
     "execution_count": 7,
     "metadata": {},
     "output_type": "execute_result"
    }
   ],
   "source": [
    "df['overs'].isna().sum()\n",
    "np.where(df['overs'].isnull() == True)[0]"
   ]
  },
  {
   "cell_type": "code",
   "execution_count": 8,
   "metadata": {},
   "outputs": [
    {
     "data": {
      "text/plain": [
       "array([], dtype=int64)"
      ]
     },
     "execution_count": 8,
     "metadata": {},
     "output_type": "execute_result"
    }
   ],
   "source": [
    "df['maidens'].isna().sum()\n",
    "np.where(df['maidens'].isnull() == True)[0]"
   ]
  },
  {
   "cell_type": "code",
   "execution_count": 9,
   "metadata": {},
   "outputs": [
    {
     "data": {
      "text/plain": [
       "array([], dtype=int64)"
      ]
     },
     "execution_count": 9,
     "metadata": {},
     "output_type": "execute_result"
    }
   ],
   "source": [
    "df['conceded'].isna().sum()\n",
    "np.where(df['conceded'].isnull() == True)[0]"
   ]
  },
  {
   "cell_type": "code",
   "execution_count": 10,
   "metadata": {},
   "outputs": [
    {
     "data": {
      "text/plain": [
       "array([], dtype=int64)"
      ]
     },
     "execution_count": 10,
     "metadata": {},
     "output_type": "execute_result"
    }
   ],
   "source": [
    "df['innings_id'].isna().sum()\n",
    "np.where(df['innings_id'].isnull() == True)[0]"
   ]
  },
  {
   "cell_type": "code",
   "execution_count": 11,
   "metadata": {},
   "outputs": [
    {
     "data": {
      "text/plain": [
       "array([], dtype=int64)"
      ]
     },
     "execution_count": 11,
     "metadata": {},
     "output_type": "execute_result"
    }
   ],
   "source": [
    "df['wickets'].isna().sum()\n",
    "np.where(df['wickets'].isnull() == True)[0]"
   ]
  },
  {
   "cell_type": "code",
   "execution_count": 12,
   "metadata": {},
   "outputs": [
    {
     "data": {
      "text/plain": [
       "array([], dtype=int64)"
      ]
     },
     "execution_count": 12,
     "metadata": {},
     "output_type": "execute_result"
    }
   ],
   "source": [
    "df['economyRate'].isna().sum()\n",
    "np.where(df['economyRate'].isnull() == True)[0]"
   ]
  },
  {
   "cell_type": "code",
   "execution_count": 13,
   "metadata": {},
   "outputs": [
    {
     "data": {
      "text/plain": [
       "array([], dtype=int64)"
      ]
     },
     "execution_count": 13,
     "metadata": {},
     "output_type": "execute_result"
    }
   ],
   "source": [
    "df['dots'].isna().sum()\n",
    "np.where(df['dots'].isnull() == True)[0]"
   ]
  },
  {
   "cell_type": "code",
   "execution_count": 14,
   "metadata": {},
   "outputs": [
    {
     "data": {
      "text/plain": [
       "array([], dtype=int64)"
      ]
     },
     "execution_count": 14,
     "metadata": {},
     "output_type": "execute_result"
    }
   ],
   "source": [
    "df['foursConceded'].isna().sum()\n",
    "np.where(df['foursConceded'].isnull() == True)[0]"
   ]
  },
  {
   "cell_type": "code",
   "execution_count": 15,
   "metadata": {},
   "outputs": [
    {
     "data": {
      "text/plain": [
       "array([], dtype=int64)"
      ]
     },
     "execution_count": 15,
     "metadata": {},
     "output_type": "execute_result"
    }
   ],
   "source": [
    "df['sixesConceded'].isna().sum()\n",
    "np.where(df['sixesConceded'].isnull() == True)[0]"
   ]
  },
  {
   "cell_type": "code",
   "execution_count": 16,
   "metadata": {},
   "outputs": [
    {
     "data": {
      "text/plain": [
       "array([], dtype=int64)"
      ]
     },
     "execution_count": 16,
     "metadata": {},
     "output_type": "execute_result"
    }
   ],
   "source": [
    "df['wides'].isna().sum()\n",
    "np.where(df['wides'].isnull() == True)[0]"
   ]
  },
  {
   "cell_type": "code",
   "execution_count": 17,
   "metadata": {},
   "outputs": [
    {
     "data": {
      "text/plain": [
       "array([], dtype=int64)"
      ]
     },
     "execution_count": 17,
     "metadata": {},
     "output_type": "execute_result"
    }
   ],
   "source": [
    "df['noballs'].isna().sum()\n",
    "np.where(df['noballs'].isnull() == True)[0]"
   ]
  },
  {
   "cell_type": "code",
   "execution_count": 18,
   "metadata": {},
   "outputs": [],
   "source": [
    "df[\"captain\"] = df[\"captain\"].astype(int)"
   ]
  },
  {
   "cell_type": "code",
   "execution_count": 19,
   "metadata": {},
   "outputs": [
    {
     "data": {
      "text/html": [
       "<div>\n",
       "<style scoped>\n",
       "    .dataframe tbody tr th:only-of-type {\n",
       "        vertical-align: middle;\n",
       "    }\n",
       "\n",
       "    .dataframe tbody tr th {\n",
       "        vertical-align: top;\n",
       "    }\n",
       "\n",
       "    .dataframe thead th {\n",
       "        text-align: right;\n",
       "    }\n",
       "</style>\n",
       "<table border=\"1\" class=\"dataframe\">\n",
       "  <thead>\n",
       "    <tr style=\"text-align: right;\">\n",
       "      <th></th>\n",
       "      <th>season</th>\n",
       "      <th>match_id</th>\n",
       "      <th>match_name</th>\n",
       "      <th>home_team</th>\n",
       "      <th>away_team</th>\n",
       "      <th>bowling_team</th>\n",
       "      <th>innings_id</th>\n",
       "      <th>fullName</th>\n",
       "      <th>overs</th>\n",
       "      <th>maidens</th>\n",
       "      <th>conceded</th>\n",
       "      <th>wickets</th>\n",
       "      <th>economyRate</th>\n",
       "      <th>dots</th>\n",
       "      <th>foursConceded</th>\n",
       "      <th>sixesConceded</th>\n",
       "      <th>wides</th>\n",
       "      <th>noballs</th>\n",
       "      <th>captain</th>\n",
       "      <th>href</th>\n",
       "    </tr>\n",
       "  </thead>\n",
       "  <tbody>\n",
       "    <tr>\n",
       "      <th>0</th>\n",
       "      <td>2022</td>\n",
       "      <td>1304047</td>\n",
       "      <td>CSK v KKR</td>\n",
       "      <td>CSK</td>\n",
       "      <td>KKR</td>\n",
       "      <td>KKR</td>\n",
       "      <td>1</td>\n",
       "      <td>Umesh Yadav</td>\n",
       "      <td>4.0</td>\n",
       "      <td>0</td>\n",
       "      <td>20</td>\n",
       "      <td>2</td>\n",
       "      <td>5.0</td>\n",
       "      <td>15</td>\n",
       "      <td>1</td>\n",
       "      <td>1</td>\n",
       "      <td>2</td>\n",
       "      <td>1</td>\n",
       "      <td>0</td>\n",
       "      <td>https://www.espncricinfo.com/ci/content/player...</td>\n",
       "    </tr>\n",
       "    <tr>\n",
       "      <th>1</th>\n",
       "      <td>2022</td>\n",
       "      <td>1304047</td>\n",
       "      <td>CSK v KKR</td>\n",
       "      <td>CSK</td>\n",
       "      <td>KKR</td>\n",
       "      <td>KKR</td>\n",
       "      <td>1</td>\n",
       "      <td>Shivam Mavi</td>\n",
       "      <td>4.0</td>\n",
       "      <td>0</td>\n",
       "      <td>35</td>\n",
       "      <td>0</td>\n",
       "      <td>8.75</td>\n",
       "      <td>12</td>\n",
       "      <td>3</td>\n",
       "      <td>2</td>\n",
       "      <td>1</td>\n",
       "      <td>1</td>\n",
       "      <td>0</td>\n",
       "      <td>https://www.espncricinfo.com/ci/content/player...</td>\n",
       "    </tr>\n",
       "    <tr>\n",
       "      <th>2</th>\n",
       "      <td>2022</td>\n",
       "      <td>1304047</td>\n",
       "      <td>CSK v KKR</td>\n",
       "      <td>CSK</td>\n",
       "      <td>KKR</td>\n",
       "      <td>KKR</td>\n",
       "      <td>1</td>\n",
       "      <td>Varun Chakravarthy</td>\n",
       "      <td>4.0</td>\n",
       "      <td>0</td>\n",
       "      <td>23</td>\n",
       "      <td>1</td>\n",
       "      <td>5.75</td>\n",
       "      <td>11</td>\n",
       "      <td>1</td>\n",
       "      <td>1</td>\n",
       "      <td>1</td>\n",
       "      <td>0</td>\n",
       "      <td>0</td>\n",
       "      <td>https://www.espncricinfo.com/ci/content/player...</td>\n",
       "    </tr>\n",
       "    <tr>\n",
       "      <th>3</th>\n",
       "      <td>2022</td>\n",
       "      <td>1304047</td>\n",
       "      <td>CSK v KKR</td>\n",
       "      <td>CSK</td>\n",
       "      <td>KKR</td>\n",
       "      <td>KKR</td>\n",
       "      <td>1</td>\n",
       "      <td>Sunil Narine</td>\n",
       "      <td>4.0</td>\n",
       "      <td>0</td>\n",
       "      <td>15</td>\n",
       "      <td>0</td>\n",
       "      <td>3.75</td>\n",
       "      <td>10</td>\n",
       "      <td>0</td>\n",
       "      <td>0</td>\n",
       "      <td>0</td>\n",
       "      <td>0</td>\n",
       "      <td>0</td>\n",
       "      <td>https://www.espncricinfo.com/ci/content/player...</td>\n",
       "    </tr>\n",
       "    <tr>\n",
       "      <th>4</th>\n",
       "      <td>2022</td>\n",
       "      <td>1304047</td>\n",
       "      <td>CSK v KKR</td>\n",
       "      <td>CSK</td>\n",
       "      <td>KKR</td>\n",
       "      <td>KKR</td>\n",
       "      <td>1</td>\n",
       "      <td>Andre Russell</td>\n",
       "      <td>4.0</td>\n",
       "      <td>0</td>\n",
       "      <td>38</td>\n",
       "      <td>1</td>\n",
       "      <td>9.5</td>\n",
       "      <td>7</td>\n",
       "      <td>5</td>\n",
       "      <td>1</td>\n",
       "      <td>0</td>\n",
       "      <td>0</td>\n",
       "      <td>0</td>\n",
       "      <td>https://www.espncricinfo.com/ci/content/player...</td>\n",
       "    </tr>\n",
       "    <tr>\n",
       "      <th>...</th>\n",
       "      <td>...</td>\n",
       "      <td>...</td>\n",
       "      <td>...</td>\n",
       "      <td>...</td>\n",
       "      <td>...</td>\n",
       "      <td>...</td>\n",
       "      <td>...</td>\n",
       "      <td>...</td>\n",
       "      <td>...</td>\n",
       "      <td>...</td>\n",
       "      <td>...</td>\n",
       "      <td>...</td>\n",
       "      <td>...</td>\n",
       "      <td>...</td>\n",
       "      <td>...</td>\n",
       "      <td>...</td>\n",
       "      <td>...</td>\n",
       "      <td>...</td>\n",
       "      <td>...</td>\n",
       "      <td>...</td>\n",
       "    </tr>\n",
       "    <tr>\n",
       "      <th>11218</th>\n",
       "      <td>2008</td>\n",
       "      <td>336040</td>\n",
       "      <td>CSK v RR</td>\n",
       "      <td>CSK</td>\n",
       "      <td>RR</td>\n",
       "      <td>CSK</td>\n",
       "      <td>2</td>\n",
       "      <td>Makhaya Ntini</td>\n",
       "      <td>4.0</td>\n",
       "      <td>1</td>\n",
       "      <td>21</td>\n",
       "      <td>0</td>\n",
       "      <td>5.25</td>\n",
       "      <td>13</td>\n",
       "      <td>3</td>\n",
       "      <td>0</td>\n",
       "      <td>0</td>\n",
       "      <td>0</td>\n",
       "      <td>0</td>\n",
       "      <td>https://www.espncricinfo.com/ci/content/player...</td>\n",
       "    </tr>\n",
       "    <tr>\n",
       "      <th>11219</th>\n",
       "      <td>2008</td>\n",
       "      <td>336040</td>\n",
       "      <td>CSK v RR</td>\n",
       "      <td>CSK</td>\n",
       "      <td>RR</td>\n",
       "      <td>CSK</td>\n",
       "      <td>2</td>\n",
       "      <td>Manpreet Gony</td>\n",
       "      <td>4.0</td>\n",
       "      <td>0</td>\n",
       "      <td>30</td>\n",
       "      <td>1</td>\n",
       "      <td>7.5</td>\n",
       "      <td>8</td>\n",
       "      <td>3</td>\n",
       "      <td>0</td>\n",
       "      <td>0</td>\n",
       "      <td>0</td>\n",
       "      <td>0</td>\n",
       "      <td>https://www.espncricinfo.com/ci/content/player...</td>\n",
       "    </tr>\n",
       "    <tr>\n",
       "      <th>11220</th>\n",
       "      <td>2008</td>\n",
       "      <td>336040</td>\n",
       "      <td>CSK v RR</td>\n",
       "      <td>CSK</td>\n",
       "      <td>RR</td>\n",
       "      <td>CSK</td>\n",
       "      <td>2</td>\n",
       "      <td>Albie Morkel</td>\n",
       "      <td>4.0</td>\n",
       "      <td>0</td>\n",
       "      <td>25</td>\n",
       "      <td>2</td>\n",
       "      <td>6.25</td>\n",
       "      <td>11</td>\n",
       "      <td>1</td>\n",
       "      <td>0</td>\n",
       "      <td>3</td>\n",
       "      <td>2</td>\n",
       "      <td>0</td>\n",
       "      <td>https://www.espncricinfo.com/ci/content/player...</td>\n",
       "    </tr>\n",
       "    <tr>\n",
       "      <th>11221</th>\n",
       "      <td>2008</td>\n",
       "      <td>336040</td>\n",
       "      <td>CSK v RR</td>\n",
       "      <td>CSK</td>\n",
       "      <td>RR</td>\n",
       "      <td>CSK</td>\n",
       "      <td>2</td>\n",
       "      <td>Lakshmipathy Balaji</td>\n",
       "      <td>4.0</td>\n",
       "      <td>0</td>\n",
       "      <td>42</td>\n",
       "      <td>0</td>\n",
       "      <td>10.5</td>\n",
       "      <td>7</td>\n",
       "      <td>5</td>\n",
       "      <td>1</td>\n",
       "      <td>1</td>\n",
       "      <td>0</td>\n",
       "      <td>0</td>\n",
       "      <td>https://www.espncricinfo.com/ci/content/player...</td>\n",
       "    </tr>\n",
       "    <tr>\n",
       "      <th>11222</th>\n",
       "      <td>2008</td>\n",
       "      <td>336040</td>\n",
       "      <td>CSK v RR</td>\n",
       "      <td>CSK</td>\n",
       "      <td>RR</td>\n",
       "      <td>CSK</td>\n",
       "      <td>2</td>\n",
       "      <td>Muttiah Muralitharan</td>\n",
       "      <td>4.0</td>\n",
       "      <td>0</td>\n",
       "      <td>39</td>\n",
       "      <td>2</td>\n",
       "      <td>9.75</td>\n",
       "      <td>8</td>\n",
       "      <td>0</td>\n",
       "      <td>4</td>\n",
       "      <td>0</td>\n",
       "      <td>0</td>\n",
       "      <td>0</td>\n",
       "      <td>https://www.espncricinfo.com/ci/content/player...</td>\n",
       "    </tr>\n",
       "  </tbody>\n",
       "</table>\n",
       "<p>11223 rows × 20 columns</p>\n",
       "</div>"
      ],
      "text/plain": [
       "       season  match_id match_name home_team away_team bowling_team  \\\n",
       "0        2022   1304047  CSK v KKR       CSK       KKR          KKR   \n",
       "1        2022   1304047  CSK v KKR       CSK       KKR          KKR   \n",
       "2        2022   1304047  CSK v KKR       CSK       KKR          KKR   \n",
       "3        2022   1304047  CSK v KKR       CSK       KKR          KKR   \n",
       "4        2022   1304047  CSK v KKR       CSK       KKR          KKR   \n",
       "...       ...       ...        ...       ...       ...          ...   \n",
       "11218    2008    336040   CSK v RR       CSK        RR          CSK   \n",
       "11219    2008    336040   CSK v RR       CSK        RR          CSK   \n",
       "11220    2008    336040   CSK v RR       CSK        RR          CSK   \n",
       "11221    2008    336040   CSK v RR       CSK        RR          CSK   \n",
       "11222    2008    336040   CSK v RR       CSK        RR          CSK   \n",
       "\n",
       "       innings_id              fullName  overs  maidens  conceded  wickets  \\\n",
       "0               1           Umesh Yadav    4.0        0        20        2   \n",
       "1               1           Shivam Mavi    4.0        0        35        0   \n",
       "2               1    Varun Chakravarthy    4.0        0        23        1   \n",
       "3               1          Sunil Narine    4.0        0        15        0   \n",
       "4               1         Andre Russell    4.0        0        38        1   \n",
       "...           ...                   ...    ...      ...       ...      ...   \n",
       "11218           2         Makhaya Ntini    4.0        1        21        0   \n",
       "11219           2         Manpreet Gony    4.0        0        30        1   \n",
       "11220           2          Albie Morkel    4.0        0        25        2   \n",
       "11221           2   Lakshmipathy Balaji    4.0        0        42        0   \n",
       "11222           2  Muttiah Muralitharan    4.0        0        39        2   \n",
       "\n",
       "      economyRate  dots  foursConceded  sixesConceded  wides  noballs  \\\n",
       "0             5.0    15              1              1      2        1   \n",
       "1            8.75    12              3              2      1        1   \n",
       "2            5.75    11              1              1      1        0   \n",
       "3            3.75    10              0              0      0        0   \n",
       "4             9.5     7              5              1      0        0   \n",
       "...           ...   ...            ...            ...    ...      ...   \n",
       "11218        5.25    13              3              0      0        0   \n",
       "11219         7.5     8              3              0      0        0   \n",
       "11220        6.25    11              1              0      3        2   \n",
       "11221        10.5     7              5              1      1        0   \n",
       "11222        9.75     8              0              4      0        0   \n",
       "\n",
       "       captain                                               href  \n",
       "0            0  https://www.espncricinfo.com/ci/content/player...  \n",
       "1            0  https://www.espncricinfo.com/ci/content/player...  \n",
       "2            0  https://www.espncricinfo.com/ci/content/player...  \n",
       "3            0  https://www.espncricinfo.com/ci/content/player...  \n",
       "4            0  https://www.espncricinfo.com/ci/content/player...  \n",
       "...        ...                                                ...  \n",
       "11218        0  https://www.espncricinfo.com/ci/content/player...  \n",
       "11219        0  https://www.espncricinfo.com/ci/content/player...  \n",
       "11220        0  https://www.espncricinfo.com/ci/content/player...  \n",
       "11221        0  https://www.espncricinfo.com/ci/content/player...  \n",
       "11222        0  https://www.espncricinfo.com/ci/content/player...  \n",
       "\n",
       "[11223 rows x 20 columns]"
      ]
     },
     "execution_count": 19,
     "metadata": {},
     "output_type": "execute_result"
    }
   ],
   "source": [
    "df"
   ]
  },
  {
   "cell_type": "code",
   "execution_count": 20,
   "metadata": {},
   "outputs": [
    {
     "data": {
      "text/plain": [
       "season             int64\n",
       "match_id           int64\n",
       "match_name        object\n",
       "home_team         object\n",
       "away_team         object\n",
       "bowling_team      object\n",
       "innings_id         int64\n",
       "fullName          object\n",
       "overs            float64\n",
       "maidens            int64\n",
       "conceded           int64\n",
       "wickets            int64\n",
       "economyRate       object\n",
       "dots               int64\n",
       "foursConceded      int64\n",
       "sixesConceded      int64\n",
       "wides              int64\n",
       "noballs            int64\n",
       "captain            int32\n",
       "href              object\n",
       "dtype: object"
      ]
     },
     "execution_count": 20,
     "metadata": {},
     "output_type": "execute_result"
    }
   ],
   "source": [
    "df.dtypes"
   ]
  },
  {
   "cell_type": "code",
   "execution_count": 21,
   "metadata": {},
   "outputs": [],
   "source": [
    "df = df.replace(['-'], 0)\n",
    "# df['runs'] = df['runs'].astype(int)\n",
    "df[\"economyRate\"]=df[\"economyRate\"].astype(float)"
   ]
  },
  {
   "cell_type": "code",
   "execution_count": 22,
   "metadata": {},
   "outputs": [
    {
     "data": {
      "text/plain": [
       "season             int64\n",
       "match_id           int64\n",
       "match_name        object\n",
       "home_team         object\n",
       "away_team         object\n",
       "bowling_team      object\n",
       "innings_id         int64\n",
       "fullName          object\n",
       "overs            float64\n",
       "maidens            int64\n",
       "conceded           int64\n",
       "wickets            int64\n",
       "economyRate      float64\n",
       "dots               int64\n",
       "foursConceded      int64\n",
       "sixesConceded      int64\n",
       "wides              int64\n",
       "noballs            int64\n",
       "captain            int32\n",
       "href              object\n",
       "dtype: object"
      ]
     },
     "execution_count": 22,
     "metadata": {},
     "output_type": "execute_result"
    }
   ],
   "source": [
    "df.dtypes"
   ]
  },
  {
   "cell_type": "code",
   "execution_count": 23,
   "metadata": {},
   "outputs": [
    {
     "name": "stdout",
     "output_type": "stream",
     "text": [
      "0.593037778502806\n",
      "-0.09139672493748126\n",
      "0.031138667574488514\n",
      "0.49196265458652966\n",
      "0.08998784561370153\n",
      "0.624253459233199\n",
      "0.641321316221021\n",
      "0.26355211400679246\n",
      "0.1667386014056911\n"
     ]
    }
   ],
   "source": [
    "from scipy.stats import pearsonr\n",
    "corr1,_=pearsonr(df['conceded'],df['overs'])\n",
    "corr2,_=pearsonr(df['conceded'],df['maidens'])\n",
    "corr3,_=pearsonr(df['conceded'],df['wickets'])\n",
    "corr5,_=pearsonr(df['conceded'],df['economyRate'])\n",
    "corr6,_=pearsonr(df['conceded'],df['dots'])\n",
    "corr7,_=pearsonr(df['conceded'],df['foursConceded'])\n",
    "corr8,_=pearsonr(df['conceded'],df['sixesConceded'])\n",
    "corr9,_=pearsonr(df['conceded'],df['wides'])\n",
    "corr10,_=pearsonr(df['conceded'],df['noballs'])\n",
    "\n",
    "print(corr1)\n",
    "print(corr2)\n",
    "print(corr3)\n",
    "print(corr5)\n",
    "print(corr6) \n",
    "print(corr8)\n",
    "print(corr7)\n",
    "print(corr9)\n",
    "print(corr10)"
   ]
  },
  {
   "cell_type": "code",
   "execution_count": 24,
   "metadata": {},
   "outputs": [],
   "source": [
    "\n",
    "df= df.drop(['match_name','innings_id','economyRate','dots','wides','noballs','captain','href','maidens'], axis=1)\n"
   ]
  },
  {
   "cell_type": "code",
   "execution_count": 25,
   "metadata": {},
   "outputs": [],
   "source": [
    "df['overs']=df['overs']*6"
   ]
  },
  {
   "cell_type": "code",
   "execution_count": 26,
   "metadata": {},
   "outputs": [],
   "source": [
    "df[\"overs\"] = df[\"overs\"].astype(int)"
   ]
  },
  {
   "cell_type": "code",
   "execution_count": 27,
   "metadata": {},
   "outputs": [
    {
     "data": {
      "text/html": [
       "<div>\n",
       "<style scoped>\n",
       "    .dataframe tbody tr th:only-of-type {\n",
       "        vertical-align: middle;\n",
       "    }\n",
       "\n",
       "    .dataframe tbody tr th {\n",
       "        vertical-align: top;\n",
       "    }\n",
       "\n",
       "    .dataframe thead th {\n",
       "        text-align: right;\n",
       "    }\n",
       "</style>\n",
       "<table border=\"1\" class=\"dataframe\">\n",
       "  <thead>\n",
       "    <tr style=\"text-align: right;\">\n",
       "      <th></th>\n",
       "      <th>season</th>\n",
       "      <th>match_id</th>\n",
       "      <th>home_team</th>\n",
       "      <th>away_team</th>\n",
       "      <th>bowling_team</th>\n",
       "      <th>fullName</th>\n",
       "      <th>overs</th>\n",
       "      <th>conceded</th>\n",
       "      <th>wickets</th>\n",
       "      <th>foursConceded</th>\n",
       "      <th>sixesConceded</th>\n",
       "    </tr>\n",
       "  </thead>\n",
       "  <tbody>\n",
       "    <tr>\n",
       "      <th>0</th>\n",
       "      <td>2022</td>\n",
       "      <td>1304047</td>\n",
       "      <td>CSK</td>\n",
       "      <td>KKR</td>\n",
       "      <td>KKR</td>\n",
       "      <td>Umesh Yadav</td>\n",
       "      <td>24</td>\n",
       "      <td>20</td>\n",
       "      <td>2</td>\n",
       "      <td>1</td>\n",
       "      <td>1</td>\n",
       "    </tr>\n",
       "    <tr>\n",
       "      <th>1</th>\n",
       "      <td>2022</td>\n",
       "      <td>1304047</td>\n",
       "      <td>CSK</td>\n",
       "      <td>KKR</td>\n",
       "      <td>KKR</td>\n",
       "      <td>Shivam Mavi</td>\n",
       "      <td>24</td>\n",
       "      <td>35</td>\n",
       "      <td>0</td>\n",
       "      <td>3</td>\n",
       "      <td>2</td>\n",
       "    </tr>\n",
       "    <tr>\n",
       "      <th>2</th>\n",
       "      <td>2022</td>\n",
       "      <td>1304047</td>\n",
       "      <td>CSK</td>\n",
       "      <td>KKR</td>\n",
       "      <td>KKR</td>\n",
       "      <td>Varun Chakravarthy</td>\n",
       "      <td>24</td>\n",
       "      <td>23</td>\n",
       "      <td>1</td>\n",
       "      <td>1</td>\n",
       "      <td>1</td>\n",
       "    </tr>\n",
       "    <tr>\n",
       "      <th>3</th>\n",
       "      <td>2022</td>\n",
       "      <td>1304047</td>\n",
       "      <td>CSK</td>\n",
       "      <td>KKR</td>\n",
       "      <td>KKR</td>\n",
       "      <td>Sunil Narine</td>\n",
       "      <td>24</td>\n",
       "      <td>15</td>\n",
       "      <td>0</td>\n",
       "      <td>0</td>\n",
       "      <td>0</td>\n",
       "    </tr>\n",
       "    <tr>\n",
       "      <th>4</th>\n",
       "      <td>2022</td>\n",
       "      <td>1304047</td>\n",
       "      <td>CSK</td>\n",
       "      <td>KKR</td>\n",
       "      <td>KKR</td>\n",
       "      <td>Andre Russell</td>\n",
       "      <td>24</td>\n",
       "      <td>38</td>\n",
       "      <td>1</td>\n",
       "      <td>5</td>\n",
       "      <td>1</td>\n",
       "    </tr>\n",
       "    <tr>\n",
       "      <th>...</th>\n",
       "      <td>...</td>\n",
       "      <td>...</td>\n",
       "      <td>...</td>\n",
       "      <td>...</td>\n",
       "      <td>...</td>\n",
       "      <td>...</td>\n",
       "      <td>...</td>\n",
       "      <td>...</td>\n",
       "      <td>...</td>\n",
       "      <td>...</td>\n",
       "      <td>...</td>\n",
       "    </tr>\n",
       "    <tr>\n",
       "      <th>11218</th>\n",
       "      <td>2008</td>\n",
       "      <td>336040</td>\n",
       "      <td>CSK</td>\n",
       "      <td>RR</td>\n",
       "      <td>CSK</td>\n",
       "      <td>Makhaya Ntini</td>\n",
       "      <td>24</td>\n",
       "      <td>21</td>\n",
       "      <td>0</td>\n",
       "      <td>3</td>\n",
       "      <td>0</td>\n",
       "    </tr>\n",
       "    <tr>\n",
       "      <th>11219</th>\n",
       "      <td>2008</td>\n",
       "      <td>336040</td>\n",
       "      <td>CSK</td>\n",
       "      <td>RR</td>\n",
       "      <td>CSK</td>\n",
       "      <td>Manpreet Gony</td>\n",
       "      <td>24</td>\n",
       "      <td>30</td>\n",
       "      <td>1</td>\n",
       "      <td>3</td>\n",
       "      <td>0</td>\n",
       "    </tr>\n",
       "    <tr>\n",
       "      <th>11220</th>\n",
       "      <td>2008</td>\n",
       "      <td>336040</td>\n",
       "      <td>CSK</td>\n",
       "      <td>RR</td>\n",
       "      <td>CSK</td>\n",
       "      <td>Albie Morkel</td>\n",
       "      <td>24</td>\n",
       "      <td>25</td>\n",
       "      <td>2</td>\n",
       "      <td>1</td>\n",
       "      <td>0</td>\n",
       "    </tr>\n",
       "    <tr>\n",
       "      <th>11221</th>\n",
       "      <td>2008</td>\n",
       "      <td>336040</td>\n",
       "      <td>CSK</td>\n",
       "      <td>RR</td>\n",
       "      <td>CSK</td>\n",
       "      <td>Lakshmipathy Balaji</td>\n",
       "      <td>24</td>\n",
       "      <td>42</td>\n",
       "      <td>0</td>\n",
       "      <td>5</td>\n",
       "      <td>1</td>\n",
       "    </tr>\n",
       "    <tr>\n",
       "      <th>11222</th>\n",
       "      <td>2008</td>\n",
       "      <td>336040</td>\n",
       "      <td>CSK</td>\n",
       "      <td>RR</td>\n",
       "      <td>CSK</td>\n",
       "      <td>Muttiah Muralitharan</td>\n",
       "      <td>24</td>\n",
       "      <td>39</td>\n",
       "      <td>2</td>\n",
       "      <td>0</td>\n",
       "      <td>4</td>\n",
       "    </tr>\n",
       "  </tbody>\n",
       "</table>\n",
       "<p>11223 rows × 11 columns</p>\n",
       "</div>"
      ],
      "text/plain": [
       "       season  match_id home_team away_team bowling_team  \\\n",
       "0        2022   1304047       CSK       KKR          KKR   \n",
       "1        2022   1304047       CSK       KKR          KKR   \n",
       "2        2022   1304047       CSK       KKR          KKR   \n",
       "3        2022   1304047       CSK       KKR          KKR   \n",
       "4        2022   1304047       CSK       KKR          KKR   \n",
       "...       ...       ...       ...       ...          ...   \n",
       "11218    2008    336040       CSK        RR          CSK   \n",
       "11219    2008    336040       CSK        RR          CSK   \n",
       "11220    2008    336040       CSK        RR          CSK   \n",
       "11221    2008    336040       CSK        RR          CSK   \n",
       "11222    2008    336040       CSK        RR          CSK   \n",
       "\n",
       "                   fullName  overs  conceded  wickets  foursConceded  \\\n",
       "0               Umesh Yadav     24        20        2              1   \n",
       "1               Shivam Mavi     24        35        0              3   \n",
       "2        Varun Chakravarthy     24        23        1              1   \n",
       "3              Sunil Narine     24        15        0              0   \n",
       "4             Andre Russell     24        38        1              5   \n",
       "...                     ...    ...       ...      ...            ...   \n",
       "11218         Makhaya Ntini     24        21        0              3   \n",
       "11219         Manpreet Gony     24        30        1              3   \n",
       "11220          Albie Morkel     24        25        2              1   \n",
       "11221   Lakshmipathy Balaji     24        42        0              5   \n",
       "11222  Muttiah Muralitharan     24        39        2              0   \n",
       "\n",
       "       sixesConceded  \n",
       "0                  1  \n",
       "1                  2  \n",
       "2                  1  \n",
       "3                  0  \n",
       "4                  1  \n",
       "...              ...  \n",
       "11218              0  \n",
       "11219              0  \n",
       "11220              0  \n",
       "11221              1  \n",
       "11222              4  \n",
       "\n",
       "[11223 rows x 11 columns]"
      ]
     },
     "execution_count": 27,
     "metadata": {},
     "output_type": "execute_result"
    }
   ],
   "source": [
    "df"
   ]
  },
  {
   "cell_type": "code",
   "execution_count": 28,
   "metadata": {},
   "outputs": [],
   "source": [
    "import numpy as np\n",
    "import pandas as pd\n",
    "from sklearn.model_selection import train_test_split\n",
    "from sklearn.linear_model import LinearRegression\n",
    "from sklearn.metrics import r2_score\n",
    "import matplotlib.pyplot as plt\n",
    "import seaborn as sns\n",
    "import warnings\n",
    "warnings.filterwarnings(\"ignore\")"
   ]
  },
  {
   "cell_type": "code",
   "execution_count": 29,
   "metadata": {},
   "outputs": [],
   "source": [
    "X = df[['overs']]\n",
    "y = df['conceded']"
   ]
  },
  {
   "cell_type": "code",
   "execution_count": 30,
   "metadata": {},
   "outputs": [],
   "source": [
    "X_train,X_test,y_train,y_test=train_test_split(X,y,test_size=0.2,random_state=0)"
   ]
  },
  {
   "cell_type": "code",
   "execution_count": 31,
   "metadata": {},
   "outputs": [
    {
     "name": "stdout",
     "output_type": "stream",
     "text": [
      "KNN: 0.22417658824740522\n",
      "Linear Regression: 0.35066183323476474\n",
      "Random Forest: 0.36401675911304726\n"
     ]
    }
   ],
   "source": [
    "from sklearn.model_selection import train_test_split, cross_val_score\n",
    "from sklearn.neighbors import KNeighborsRegressor\n",
    "from sklearn.linear_model import LinearRegression\n",
    "from sklearn.ensemble import RandomForestRegressor\n",
    "models = {\n",
    "    \"KNN\": KNeighborsRegressor(),\n",
    "    \"Linear Regression\": LinearRegression(),\n",
    "    \"Random Forest\": RandomForestRegressor()\n",
    "}\n",
    "\n",
    "for name, model in models.items():\n",
    "    scores = cross_val_score(model, X_train, y_train, cv=5)\n",
    "    print(f\"{name}: {np.mean(scores)}\")"
   ]
  },
  {
   "cell_type": "code",
   "execution_count": 32,
   "metadata": {},
   "outputs": [
    {
     "data": {
      "text/plain": [
       "LinearRegression()"
      ]
     },
     "execution_count": 32,
     "metadata": {},
     "output_type": "execute_result"
    }
   ],
   "source": [
    "linreg=LinearRegression()\n",
    "linreg.fit(X_train,y_train)"
   ]
  },
  {
   "cell_type": "code",
   "execution_count": 33,
   "metadata": {},
   "outputs": [],
   "source": [
    "y_pred=linreg.predict(X_test)"
   ]
  },
  {
   "cell_type": "code",
   "execution_count": 34,
   "metadata": {},
   "outputs": [
    {
     "name": "stdout",
     "output_type": "stream",
     "text": [
      " Accuracy of the model is 34.77\n"
     ]
    }
   ],
   "source": [
    "Accuracy=r2_score(y_test,y_pred)*100\n",
    "print(\" Accuracy of the model is %.2f\" %Accuracy)"
   ]
  },
  {
   "cell_type": "code",
   "execution_count": 53,
   "metadata": {},
   "outputs": [
    {
     "data": {
      "image/png": "[encoded data removed]",
      "text/plain": [
       "<Figure size 640x480 with 1 Axes>"
      ]
     },
     "metadata": {},
     "output_type": "display_data"
    }
   ],
   "source": [
    "plt.scatter(y_test,y_pred);\n",
    "plt.xlabel('Actual');\n",
    "plt.ylabel('Predicted');"
   ]
  },
  {
   "cell_type": "code",
   "execution_count": 54,
   "metadata": {},
   "outputs": [
    {
     "data": {
      "image/png": "[encoded data removed]",
      "text/plain": [
       "<Figure size 640x480 with 1 Axes>"
      ]
     },
     "metadata": {},
     "output_type": "display_data"
    }
   ],
   "source": [
    "sns.regplot(x=y_test,y=y_pred,ci=None,color ='red');"
   ]
  },
  {
   "cell_type": "code",
   "execution_count": 126,
   "metadata": {},
   "outputs": [],
   "source": [
    "pred_df=pd.DataFrame({'Actual Value':y_test,'Predicted Value':y_pred,'Difference':y_test-y_pred})"
   ]
  },
  {
   "cell_type": "code",
   "execution_count": 127,
   "metadata": {},
   "outputs": [
    {
     "data": {
      "text/html": [
       "<div>\n",
       "<style scoped>\n",
       "    .dataframe tbody tr th:only-of-type {\n",
       "        vertical-align: middle;\n",
       "    }\n",
       "\n",
       "    .dataframe tbody tr th {\n",
       "        vertical-align: top;\n",
       "    }\n",
       "\n",
       "    .dataframe thead th {\n",
       "        text-align: right;\n",
       "    }\n",
       "</style>\n",
       "<table border=\"1\" class=\"dataframe\">\n",
       "  <thead>\n",
       "    <tr style=\"text-align: right;\">\n",
       "      <th></th>\n",
       "      <th>Actual Value</th>\n",
       "      <th>Predicted Value</th>\n",
       "      <th>Difference</th>\n",
       "    </tr>\n",
       "  </thead>\n",
       "  <tbody>\n",
       "    <tr>\n",
       "      <th>1997</th>\n",
       "      <td>8</td>\n",
       "      <td>15.691244</td>\n",
       "      <td>-7.691244</td>\n",
       "    </tr>\n",
       "    <tr>\n",
       "      <th>1534</th>\n",
       "      <td>47</td>\n",
       "      <td>51.712982</td>\n",
       "      <td>-4.712982</td>\n",
       "    </tr>\n",
       "    <tr>\n",
       "      <th>7597</th>\n",
       "      <td>5</td>\n",
       "      <td>8.418283</td>\n",
       "      <td>-3.418283</td>\n",
       "    </tr>\n",
       "    <tr>\n",
       "      <th>8315</th>\n",
       "      <td>9</td>\n",
       "      <td>8.140047</td>\n",
       "      <td>0.859953</td>\n",
       "    </tr>\n",
       "    <tr>\n",
       "      <th>256</th>\n",
       "      <td>33</td>\n",
       "      <td>35.991056</td>\n",
       "      <td>-2.991056</td>\n",
       "    </tr>\n",
       "    <tr>\n",
       "      <th>...</th>\n",
       "      <td>...</td>\n",
       "      <td>...</td>\n",
       "      <td>...</td>\n",
       "    </tr>\n",
       "    <tr>\n",
       "      <th>1942</th>\n",
       "      <td>18</td>\n",
       "      <td>19.049490</td>\n",
       "      <td>-1.049490</td>\n",
       "    </tr>\n",
       "    <tr>\n",
       "      <th>9085</th>\n",
       "      <td>27</td>\n",
       "      <td>28.845991</td>\n",
       "      <td>-1.845991</td>\n",
       "    </tr>\n",
       "    <tr>\n",
       "      <th>3861</th>\n",
       "      <td>29</td>\n",
       "      <td>24.418443</td>\n",
       "      <td>4.581557</td>\n",
       "    </tr>\n",
       "    <tr>\n",
       "      <th>9900</th>\n",
       "      <td>19</td>\n",
       "      <td>20.781963</td>\n",
       "      <td>-1.781963</td>\n",
       "    </tr>\n",
       "    <tr>\n",
       "      <th>10615</th>\n",
       "      <td>27</td>\n",
       "      <td>28.845991</td>\n",
       "      <td>-1.845991</td>\n",
       "    </tr>\n",
       "  </tbody>\n",
       "</table>\n",
       "<p>2245 rows × 3 columns</p>\n",
       "</div>"
      ],
      "text/plain": [
       "       Actual Value  Predicted Value  Difference\n",
       "1997              8        15.691244   -7.691244\n",
       "1534             47        51.712982   -4.712982\n",
       "7597              5         8.418283   -3.418283\n",
       "8315              9         8.140047    0.859953\n",
       "256              33        35.991056   -2.991056\n",
       "...             ...              ...         ...\n",
       "1942             18        19.049490   -1.049490\n",
       "9085             27        28.845991   -1.845991\n",
       "3861             29        24.418443    4.581557\n",
       "9900             19        20.781963   -1.781963\n",
       "10615            27        28.845991   -1.845991\n",
       "\n",
       "[2245 rows x 3 columns]"
      ]
     },
     "execution_count": 127,
     "metadata": {},
     "output_type": "execute_result"
    }
   ],
   "source": [
    "pred_df"
   ]
  },
  {
   "cell_type": "code",
   "execution_count": 147,
   "metadata": {},
   "outputs": [],
   "source": [
    "df['opponentteam'] = np.nan"
   ]
  },
  {
   "cell_type": "code",
   "execution_count": 150,
   "metadata": {},
   "outputs": [],
   "source": [
    "df.loc[df['bowling_team'] == df['away_team'], 'opponentteam'] = df['home_team']\n",
    "df.loc[df['bowling_team'] == df['home_team'], 'opponentteam'] = df['away_team']\n"
   ]
  },
  {
   "cell_type": "code",
   "execution_count": 152,
   "metadata": {},
   "outputs": [],
   "source": [
    "df= df.drop(['home_team','away_team','bowling_team'], axis=1)\n"
   ]
  },
  {
   "cell_type": "code",
   "execution_count": 153,
   "metadata": {},
   "outputs": [
    {
     "data": {
      "text/html": [
       "<div>\n",
       "<style scoped>\n",
       "    .dataframe tbody tr th:only-of-type {\n",
       "        vertical-align: middle;\n",
       "    }\n",
       "\n",
       "    .dataframe tbody tr th {\n",
       "        vertical-align: top;\n",
       "    }\n",
       "\n",
       "    .dataframe thead th {\n",
       "        text-align: right;\n",
       "    }\n",
       "</style>\n",
       "<table border=\"1\" class=\"dataframe\">\n",
       "  <thead>\n",
       "    <tr style=\"text-align: right;\">\n",
       "      <th></th>\n",
       "      <th>season</th>\n",
       "      <th>match_id</th>\n",
       "      <th>fullName</th>\n",
       "      <th>overs</th>\n",
       "      <th>conceded</th>\n",
       "      <th>wickets</th>\n",
       "      <th>foursConceded</th>\n",
       "      <th>sixesConceded</th>\n",
       "      <th>opponentteam</th>\n",
       "    </tr>\n",
       "  </thead>\n",
       "  <tbody>\n",
       "    <tr>\n",
       "      <th>0</th>\n",
       "      <td>2022</td>\n",
       "      <td>1304047</td>\n",
       "      <td>Umesh Yadav</td>\n",
       "      <td>24</td>\n",
       "      <td>20</td>\n",
       "      <td>2</td>\n",
       "      <td>1</td>\n",
       "      <td>1</td>\n",
       "      <td>CSK</td>\n",
       "    </tr>\n",
       "    <tr>\n",
       "      <th>1</th>\n",
       "      <td>2022</td>\n",
       "      <td>1304047</td>\n",
       "      <td>Shivam Mavi</td>\n",
       "      <td>24</td>\n",
       "      <td>35</td>\n",
       "      <td>0</td>\n",
       "      <td>3</td>\n",
       "      <td>2</td>\n",
       "      <td>CSK</td>\n",
       "    </tr>\n",
       "    <tr>\n",
       "      <th>2</th>\n",
       "      <td>2022</td>\n",
       "      <td>1304047</td>\n",
       "      <td>Varun Chakravarthy</td>\n",
       "      <td>24</td>\n",
       "      <td>23</td>\n",
       "      <td>1</td>\n",
       "      <td>1</td>\n",
       "      <td>1</td>\n",
       "      <td>CSK</td>\n",
       "    </tr>\n",
       "    <tr>\n",
       "      <th>3</th>\n",
       "      <td>2022</td>\n",
       "      <td>1304047</td>\n",
       "      <td>Sunil Narine</td>\n",
       "      <td>24</td>\n",
       "      <td>15</td>\n",
       "      <td>0</td>\n",
       "      <td>0</td>\n",
       "      <td>0</td>\n",
       "      <td>CSK</td>\n",
       "    </tr>\n",
       "    <tr>\n",
       "      <th>4</th>\n",
       "      <td>2022</td>\n",
       "      <td>1304047</td>\n",
       "      <td>Andre Russell</td>\n",
       "      <td>24</td>\n",
       "      <td>38</td>\n",
       "      <td>1</td>\n",
       "      <td>5</td>\n",
       "      <td>1</td>\n",
       "      <td>CSK</td>\n",
       "    </tr>\n",
       "    <tr>\n",
       "      <th>...</th>\n",
       "      <td>...</td>\n",
       "      <td>...</td>\n",
       "      <td>...</td>\n",
       "      <td>...</td>\n",
       "      <td>...</td>\n",
       "      <td>...</td>\n",
       "      <td>...</td>\n",
       "      <td>...</td>\n",
       "      <td>...</td>\n",
       "    </tr>\n",
       "    <tr>\n",
       "      <th>11218</th>\n",
       "      <td>2008</td>\n",
       "      <td>336040</td>\n",
       "      <td>Makhaya Ntini</td>\n",
       "      <td>24</td>\n",
       "      <td>21</td>\n",
       "      <td>0</td>\n",
       "      <td>3</td>\n",
       "      <td>0</td>\n",
       "      <td>RR</td>\n",
       "    </tr>\n",
       "    <tr>\n",
       "      <th>11219</th>\n",
       "      <td>2008</td>\n",
       "      <td>336040</td>\n",
       "      <td>Manpreet Gony</td>\n",
       "      <td>24</td>\n",
       "      <td>30</td>\n",
       "      <td>1</td>\n",
       "      <td>3</td>\n",
       "      <td>0</td>\n",
       "      <td>RR</td>\n",
       "    </tr>\n",
       "    <tr>\n",
       "      <th>11220</th>\n",
       "      <td>2008</td>\n",
       "      <td>336040</td>\n",
       "      <td>Albie Morkel</td>\n",
       "      <td>24</td>\n",
       "      <td>25</td>\n",
       "      <td>2</td>\n",
       "      <td>1</td>\n",
       "      <td>0</td>\n",
       "      <td>RR</td>\n",
       "    </tr>\n",
       "    <tr>\n",
       "      <th>11221</th>\n",
       "      <td>2008</td>\n",
       "      <td>336040</td>\n",
       "      <td>Lakshmipathy Balaji</td>\n",
       "      <td>24</td>\n",
       "      <td>42</td>\n",
       "      <td>0</td>\n",
       "      <td>5</td>\n",
       "      <td>1</td>\n",
       "      <td>RR</td>\n",
       "    </tr>\n",
       "    <tr>\n",
       "      <th>11222</th>\n",
       "      <td>2008</td>\n",
       "      <td>336040</td>\n",
       "      <td>Muttiah Muralitharan</td>\n",
       "      <td>24</td>\n",
       "      <td>39</td>\n",
       "      <td>2</td>\n",
       "      <td>0</td>\n",
       "      <td>4</td>\n",
       "      <td>RR</td>\n",
       "    </tr>\n",
       "  </tbody>\n",
       "</table>\n",
       "<p>11223 rows × 9 columns</p>\n",
       "</div>"
      ],
      "text/plain": [
       "       season  match_id              fullName  overs  conceded  wickets  \\\n",
       "0        2022   1304047           Umesh Yadav     24        20        2   \n",
       "1        2022   1304047           Shivam Mavi     24        35        0   \n",
       "2        2022   1304047    Varun Chakravarthy     24        23        1   \n",
       "3        2022   1304047          Sunil Narine     24        15        0   \n",
       "4        2022   1304047         Andre Russell     24        38        1   \n",
       "...       ...       ...                   ...    ...       ...      ...   \n",
       "11218    2008    336040         Makhaya Ntini     24        21        0   \n",
       "11219    2008    336040         Manpreet Gony     24        30        1   \n",
       "11220    2008    336040          Albie Morkel     24        25        2   \n",
       "11221    2008    336040   Lakshmipathy Balaji     24        42        0   \n",
       "11222    2008    336040  Muttiah Muralitharan     24        39        2   \n",
       "\n",
       "       foursConceded  sixesConceded opponentteam  \n",
       "0                  1              1          CSK  \n",
       "1                  3              2          CSK  \n",
       "2                  1              1          CSK  \n",
       "3                  0              0          CSK  \n",
       "4                  5              1          CSK  \n",
       "...              ...            ...          ...  \n",
       "11218              3              0           RR  \n",
       "11219              3              0           RR  \n",
       "11220              1              0           RR  \n",
       "11221              5              1           RR  \n",
       "11222              0              4           RR  \n",
       "\n",
       "[11223 rows x 9 columns]"
      ]
     },
     "execution_count": 153,
     "metadata": {},
     "output_type": "execute_result"
    }
   ],
   "source": [
    "df"
   ]
  },
  {
   "cell_type": "code",
   "execution_count": 162,
   "metadata": {},
   "outputs": [],
   "source": [
    "import math\n",
    "\n",
    "def abc(ballteamname,bolwername):\n",
    "    \n",
    "    df1=df.loc[(df['fullName'] == bolwername) & (df['opponentteam'] == ballteamname) ]\n",
    "    X1 = df1[['overs']]\n",
    "    y1 = df1['conceded']\n",
    "    X1_train,X1_test,y1_train,y1_test=train_test_split(X1,y1,test_size=0.1,random_state=0)\n",
    "    linreg=LinearRegression()\n",
    "    abc=linreg.fit(X1_train,y1_train)\n",
    "    y1_pred=abc.predict(X1_test)\n",
    "    Accuracy1=r2_score(y1_test,y1_pred)*100\n",
    "\n",
    "\n",
    "    y2_pred30=int(abc.predict([[30]]))\n",
    "    y2_pred60=int(abc.predict([[60]]))\n",
    "    y2_pred90=int(abc.predict([[90]]))\n",
    "    y2_pred120=int(abc.predict([[120]]))\n",
    "\n",
    "    pred30=str(y2_pred30)\n",
    "    pred60=str(y2_pred60)\n",
    "    pred90=str(y2_pred90)\n",
    "    pred120=str(y2_pred120)\n",
    "\n",
    "    return pred30,pred60,pred90,pred120"
   ]
  },
  {
   "cell_type": "code",
   "execution_count": 163,
   "metadata": {},
   "outputs": [],
   "source": [
    "b,c,d,e=abc(\"CSK\",\"Umesh Yadav\")"
   ]
  },
  {
   "cell_type": "code",
   "execution_count": 158,
   "metadata": {},
   "outputs": [
    {
     "data": {
      "text/plain": [
       "'-2234.722222222224'"
      ]
     },
     "execution_count": 158,
     "metadata": {},
     "output_type": "execute_result"
    }
   ],
   "source": [
    "a"
   ]
  },
  {
   "cell_type": "code",
   "execution_count": 164,
   "metadata": {},
   "outputs": [
    {
     "data": {
      "text/plain": [
       "'37'"
      ]
     },
     "execution_count": 164,
     "metadata": {},
     "output_type": "execute_result"
    }
   ],
   "source": [
    "b"
   ]
  },
  {
   "cell_type": "code",
   "execution_count": 160,
   "metadata": {},
   "outputs": [
    {
     "data": {
      "text/plain": [
       "'73'"
      ]
     },
     "execution_count": 160,
     "metadata": {},
     "output_type": "execute_result"
    }
   ],
   "source": [
    "c"
   ]
  },
  {
   "cell_type": "code",
   "execution_count": 161,
   "metadata": {},
   "outputs": [
    {
     "data": {
      "text/plain": [
       "'110'"
      ]
     },
     "execution_count": 161,
     "metadata": {},
     "output_type": "execute_result"
    }
   ],
   "source": [
    "d"
   ]
  },
  {
   "cell_type": "code",
   "execution_count": 166,
   "metadata": {},
   "outputs": [],
   "source": [
    "df.to_csv('C:\\project work\\sballing.csv', index=False)"
   ]
  },
  {
   "cell_type": "code",
   "execution_count": null,
   "metadata": {},
   "outputs": [],
   "source": [
    "import pickle\n",
    "\n",
    "with open('C:/Users/ridit/Downloads/aaaa/project.pkl', 'wb') as f:\n",
    "    pickle.dump(linreg, f)"
   ]
  }
 ],
 "metadata": {
  "kernelspec": {
   "display_name": "Python 3 (ipykernel)",
   "language": "python",
   "name": "python3"
  },
  "language_info": {
   "codemirror_mode": {
    "name": "ipython",
    "version": 3
   },
   "file_extension": ".py",
   "mimetype": "text/x-python",
   "name": "python",
   "nbconvert_exporter": "python",
   "pygments_lexer": "ipython3",
   "version": "3.9.13"
  }
 },
 "nbformat": 4,
 "nbformat_minor": 2
}
